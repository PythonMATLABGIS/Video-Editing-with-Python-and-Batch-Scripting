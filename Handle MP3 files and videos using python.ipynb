{
 "cells": [
  {
   "cell_type": "markdown",
   "metadata": {},
   "source": [
    "<a id='top'></a>\n",
    "## Table of Contents\n",
    "1. [DOWNLOADING YOUTUBE VIDEOS AND CONVERTING TO MP3](#1)<br>\n",
    "    1.1 [Method 1: Using PyTube and MoviePy](#11)<br>\n",
    "    1.1.1 [Basic Usage](#111)<br>\n",
    "    1.1.2 [Functions: download youtube to Mp4 and mp3](#112)<br>\n",
    "    1.1.3 [Downloading videos from a YouTube playlist](#113)<br>\n",
    "    1.1.4 [Bam1_Make a function to download youtube video playlist](#114)<br>\n",
    "    1.1.5 [Bam2_Make a function to download and convert a youtube playlist to mp3](#115)<br>\n",
    "    1.1.6 [Functions: download youtube to Mp4 and mp3](#116)<br>\n",
    "    1.2 [Toc2](#12)<br>\n",
    "    1.3 [Toc2](#13)<br>\n",
    "    1.4 [Toc2](#14)<br>\n",
    "    1.5 [Toc2](#15)<br>\n",
    "    1.6 [Toc2](#16)<br>\n",
    "    1.7 [Toc2](#17)<br>\n",
    "    1.8 [Toc2](#18)<br>\n",
    "    1.9 [Toc2](#19)<br>   \n",
    "2. [Converting from Mp4 to mp3(from a folder with mp4 files)](#2)<br>\n",
    "    2.1 [scripts](#21)<br>\n",
    "    2.2 [Make a function to convert from video to audio, to the same folder ](#22)<br>\n",
    "    2.3 [Function from Mp4 to Mp3](#23)<br>\n",
    "    2.4 [Toc2](#24)<br>\n",
    "    2.5 [Toc2](#25)<br>\n",
    "    2.6 [Toc2](#26)<br>\n",
    "    2.7 [Toc2](#27)<br>\n",
    "    2.8 [Toc2](#28)<br>\n",
    "    2.9 [Toc2](#29)<br>   \n",
    "3. [MoviePy](#3)<br>\n",
    "    3.1 [Toc2](#31)<br>\n",
    "    3.2 [Toc2](#32)<br>\n",
    "    3.3 [Toc2](#33)<br>\n",
    "    3.4 [Toc2](#34)<br>\n",
    "    3.5 [Toc2](#35)<br>\n",
    "    3.6 [Toc2](#36)<br>\n",
    "    3.7 [Toc2](#37)<br>\n",
    "    3.8 [Toc2](#38)<br>\n",
    "    3.9 [Toc2](#39)<br>   \n",
    "4. [Using lame and ffmpeg](#4)<br>\n",
    "    4.1 [Toc2](#41)<br>\n",
    "    4.2 [Toc2](#42)<br>\n",
    "    4.3 [Toc2](#43)<br>\n",
    "    4.4 [Toc2](#44)<br>\n",
    "    4.5 [Toc2](#45)<br>\n",
    "    4.6 [Toc2](#46)<br>\n",
    "    4.7 [Toc2](#47)<br>\n",
    "    4.8 [Toc2](#48)<br>\n",
    "    4.9 [Toc2](#49)<br>   \n",
    "5. [Toc5](#5)<br>\n",
    "    5.1 [Toc2](#51)<br>\n",
    "    5.2 [Toc2](#52)<br>\n",
    "    5.3 [Toc2](#53)<br>\n",
    "    5.4 [Toc2](#54)<br>\n",
    "    5.5 [Toc2](#55)<br>\n",
    "    5.6 [Toc2](#56)<br>\n",
    "    5.7 [Toc2](#57)<br>\n",
    "    5.8 [Toc2](#58)<br>\n",
    "    5.9 [Toc2](#59)<br>   \n",
    "6. [Toc6](#6)<br>\n",
    "    6.1 [Toc2](#61)<br>\n",
    "    6.2 [Toc2](#62)<br>\n",
    "    6.3 [Toc2](#63)<br>\n",
    "    6.4 [Toc2](#64)<br>\n",
    "    6.5 [Toc2](#65)<br>\n",
    "    6.6 [Toc2](#66)<br>\n",
    "    6.7 [Toc2](#67)<br>\n",
    "    6.8 [Toc2](#68)<br>\n",
    "    6.9 [Toc2](#69)<br>   \n",
    "7. [Toc7](#7)<br>\n",
    "    7.1 [Toc2](#71)<br>\n",
    "    7.2 [Toc2](#72)<br>\n",
    "    7.3 [Toc2](#73)<br>\n",
    "    1.4 [Toc2](#74)<br>\n",
    "    1.5 [Toc2](#75)<br>\n",
    "    8.6 [Toc2](#76)<br>\n",
    "    8.7 [Toc2](#77)<br>\n",
    "    8.8 [Toc2](#78)<br>\n",
    "    8.9 [Toc2](#79)<br>   \n",
    "8. [Toc8](#8)<br>\n",
    "    8.1 [Toc2](#81)<br>\n",
    "    8.2 [Toc2](#82)<br>\n",
    "    8.3 [Toc2](#83)<br>\n",
    "    8.4 [Toc2](#84)<br>\n",
    "    8.5 [Toc2](#85)<br>\n",
    "    8.6 [Toc2](#86)<br>\n",
    "    8.7 [Toc2](#87)<br>\n",
    "    8.8 [Toc2](#88)<br>\n",
    "    8.9 [Toc2](#89)<br>   \n",
    "9. [Toc9](#9)<br>\n",
    "    9.1 [Toc2](#91)<br>\n",
    "    9.2 [Toc2](#92)<br>\n",
    "    9.3 [Toc2](#93)<br>\n",
    "    9.4 [Toc2](#94)<br>\n",
    "    9.5 [Toc2](#95)<br>\n",
    "    9.6 [Toc2](#96)<br>\n",
    "    9.7 [Toc2](#97)<br>\n",
    "    9.8 [Toc2](#98)<br>\n",
    "    9.9 [Toc2](#99)<br>   \n",
    "10. [Toc10](#10)<br>\n",
    "    10.1 [Toc2](#101)<br>\n",
    "    10.2 [Toc2](#102)<br>\n",
    "    10.3 [Toc2](#103)<br>\n",
    "    10.4 [Toc2](#104)<br>\n",
    "    10.5 [Toc2](#105)<br>\n",
    "    10.6 [Toc2](#106)<br>\n",
    "    10.7 [Toc2](#107)<br>\n",
    "    10.8 [Toc2](#108)<br>\n",
    "    10.9 [Toc2](#109)<br>   \n",
    "[go to bottom](#bottom)    "
   ]
  },
  {
   "cell_type": "markdown",
   "metadata": {},
   "source": [
    "# 1. DOWNLOADING YOUTUBE VIDEOS AND CONVERTING TO MP3 <a id='1'></a>\n",
    "[go to top](#top)<br>"
   ]
  },
  {
   "cell_type": "markdown",
   "metadata": {},
   "source": [
    "## 1.1 Method 1: Using PyTube and MoviePy <a id='11'></a>\n",
    "[go to top](#top)<br>\n",
    "\n",
    "1. Objectives:\n",
    "    * ``-Download YouTube Videos\n",
    "    * ``-Saving as subclip (saving a portion of the video)\n",
    "    * ``-Converting to MP3\n",
    "1. Required Tools:\n",
    "    * ``-PyTube— primarily for downloading youtube videos.\n",
    "    * ``-MoviePy — for video editing and also convert to mp3.\n",
    "1. Steps:\n",
    "    * ``-pip install pytube and moviepy<br>"
   ]
  },
  {
   "cell_type": "markdown",
   "metadata": {},
   "source": [
    "### 1.1.1. Basic Usage <a id='111'></a>\n",
    "[go to top](#top)<br>\n"
   ]
  },
  {
   "cell_type": "code",
   "execution_count": 53,
   "metadata": {},
   "outputs": [],
   "source": [
    "from pytube import YouTube\n",
    "from moviepy.editor import *"
   ]
  },
  {
   "cell_type": "code",
   "execution_count": 8,
   "metadata": {
    "scrolled": true
   },
   "outputs": [
    {
     "data": {
      "text/plain": [
       "'C:\\\\Temp\\\\DownloadVideo\\\\How to convert YouTube to Mp3 file in Python (89).mp4'"
      ]
     },
     "execution_count": 8,
     "metadata": {},
     "output_type": "execute_result"
    }
   ],
   "source": [
    "# download a file from youtube\n",
    "youtube_link = 'https://www.youtube.com/watch?v=JcZn5H5ZuyM'\n",
    "w = YouTube(youtube_link).streams.first()\n",
    "output_path=\"C:\\\\Temp\\\\DownloadVideo\"\n",
    "import os\n",
    "if not os.path.exists(output_path): os.makedirs(output_path)\n",
    "w.download(output_path)"
   ]
  },
  {
   "cell_type": "code",
   "execution_count": null,
   "metadata": {},
   "outputs": [],
   "source": [
    "# download a file with only audio, to save space\n",
    "# if the final goal is to convert to mp3\n",
    "youtube_link = 'https://www.youtube.com/watch?v=7mVbiiJvhMc' #nghe thuat day con lam viec nha\n",
    "y = YouTube(youtube_link)\n",
    "output_path=\"C:\\\\Temp\\\\DownloadAudio\"\n",
    "import os\n",
    "if not os.path.exists(output_path): os.makedirs(output_path)\n",
    "t = y.streams.filter(only_audio=True).all()\n",
    "t[0].download(output_path)"
   ]
  },
  {
   "cell_type": "markdown",
   "metadata": {},
   "source": [
    "### 1.1.2. Functions: download youtube to Mp4 and mp3 <a id='112'></a>\n",
    "[go to top](#top)<br>\n",
    "\n",
    "pip install pytube and moviepy"
   ]
  },
  {
   "cell_type": "code",
   "execution_count": 9,
   "metadata": {},
   "outputs": [],
   "source": [
    "from pytube import YouTube\n",
    "from moviepy.editor import *"
   ]
  },
  {
   "cell_type": "code",
   "execution_count": 59,
   "metadata": {},
   "outputs": [],
   "source": [
    "#function: tube_video to download youtube video\n",
    "def tube_video(youtube_link,output_path):\n",
    "    w = YouTube(youtube_link).streams.first()\n",
    "    import os\n",
    "    if not os.path.exists(output_path): os.makedirs(output_path)\n",
    "    w.download(output_path)"
   ]
  },
  {
   "cell_type": "code",
   "execution_count": 60,
   "metadata": {},
   "outputs": [],
   "source": [
    "#use tube_video function\n",
    "youtube_link ='https://www.youtube.com/watch?v=JAsqb8jpyVE&t=5s'\n",
    "output_path = r'C:\\Temp\\DownloadVideo'\n",
    "tube_video(youtube_link,output_path)"
   ]
  },
  {
   "cell_type": "code",
   "execution_count": 61,
   "metadata": {},
   "outputs": [],
   "source": [
    "#function: tube_audio to download youtube audio\n",
    "def tube_audio(youtube_link,output_path):\n",
    "    y = YouTube(youtube_link)\n",
    "    import os\n",
    "    if not os.path.exists(output_path): os.makedirs(output_path)\n",
    "    t = y.streams.filter(only_audio=True).all()\n",
    "    t[0].download(output_path)"
   ]
  },
  {
   "cell_type": "code",
   "execution_count": 62,
   "metadata": {},
   "outputs": [],
   "source": [
    "#use tube_audio function\n",
    "youtube_link ='https://www.youtube.com/watch?v=JAsqb8jpyVE&t=5s'\n",
    "output_path = r'C:\\Temp\\DownloadAudio'\n",
    "tube_audio(youtube_link,output_path)"
   ]
  },
  {
   "cell_type": "markdown",
   "metadata": {},
   "source": [
    "### 1.1.3. Downloading videos from a YouTube playlist <a id='113'></a>\n",
    "[go to top](#top)<br>"
   ]
  },
  {
   "cell_type": "code",
   "execution_count": null,
   "metadata": {},
   "outputs": [],
   "source": []
  },
  {
   "cell_type": "code",
   "execution_count": 13,
   "metadata": {},
   "outputs": [],
   "source": [
    "import requests\n",
    "import re\n",
    "from bs4 import BeautifulSoup"
   ]
  },
  {
   "cell_type": "code",
   "execution_count": 14,
   "metadata": {},
   "outputs": [],
   "source": [
    "website = 'https://www.youtube.com/playlist?list=PLpJTB7sffXfIhZauBB4jcB6Rq4or8MPsO'\n",
    "r= requests.get(website)\n",
    "soup = BeautifulSoup(r.text)"
   ]
  },
  {
   "cell_type": "code",
   "execution_count": 39,
   "metadata": {},
   "outputs": [
    {
     "data": {
      "text/plain": [
       "['/watch?v=ymsp1QHFMOg&list=PLpJTB7sffXfIhZauBB4jcB6Rq4or8MPsO',\n",
       " 'https://www.youtube.com/watch?v=cBKCkaET104&list=PLpJTB7sffXfIhZauBB4jcB6Rq4or8MPsO',\n",
       " '/watch?v=ymsp1QHFMOg&list=PLpJTB7sffXfIhZauBB4jcB6Rq4or8MPsO&index=2&t=0s',\n",
       " '/watch?v=B_lhxMjckG4&list=PLpJTB7sffXfIhZauBB4jcB6Rq4or8MPsO&index=3&t=0s',\n",
       " '/watch?v=jX1q6z6r3PY&list=PLpJTB7sffXfIhZauBB4jcB6Rq4or8MPsO&index=4&t=0s',\n",
       " '/watch?v=3DYdpOy3Yaw&list=PLpJTB7sffXfIhZauBB4jcB6Rq4or8MPsO&index=5&t=0s',\n",
       " '/watch?v=i57hxM8pA9Y&list=PLpJTB7sffXfIhZauBB4jcB6Rq4or8MPsO&index=6&t=0s',\n",
       " '/watch?v=qwNldCnY4aI&list=PLpJTB7sffXfIhZauBB4jcB6Rq4or8MPsO&index=7&t=0s',\n",
       " '/watch?v=ppHebvATsJ8&list=PLpJTB7sffXfIhZauBB4jcB6Rq4or8MPsO&index=8',\n",
       " '/watch?v=HAyPqgr9rcw&list=PLpJTB7sffXfIhZauBB4jcB6Rq4or8MPsO&index=9',\n",
       " '/watch?v=I09aebmabSw&list=PLpJTB7sffXfIhZauBB4jcB6Rq4or8MPsO&index=10',\n",
       " '/watch?v=WvnhCHFRdOc&list=PLpJTB7sffXfIhZauBB4jcB6Rq4or8MPsO&index=11',\n",
       " '/watch?v=XPzx9D8OQbc&list=PLpJTB7sffXfIhZauBB4jcB6Rq4or8MPsO&index=12',\n",
       " '/watch?v=Fc35w2MQQrw&list=PLpJTB7sffXfIhZauBB4jcB6Rq4or8MPsO&index=13',\n",
       " '/watch?v=_L2-RaH0djk&list=PLpJTB7sffXfIhZauBB4jcB6Rq4or8MPsO&index=14',\n",
       " '/watch?v=XnfD9BWBANk&list=PLpJTB7sffXfIhZauBB4jcB6Rq4or8MPsO&index=15',\n",
       " '/watch?v=bRtR9iaHvUs&list=PLpJTB7sffXfIhZauBB4jcB6Rq4or8MPsO&index=16',\n",
       " '/watch?v=oJSpzc55CiE&list=PLpJTB7sffXfIhZauBB4jcB6Rq4or8MPsO&index=17',\n",
       " '/watch?v=OsimvCy2DTs&list=PLpJTB7sffXfIhZauBB4jcB6Rq4or8MPsO&index=18',\n",
       " '/watch?v=SmS0xWCOhBI&list=PLpJTB7sffXfIhZauBB4jcB6Rq4or8MPsO&index=19',\n",
       " '/watch?v=9EzNRaPAfwg&list=PLpJTB7sffXfIhZauBB4jcB6Rq4or8MPsO&index=20',\n",
       " '/watch?v=EkI6J8OCWVc&list=PLpJTB7sffXfIhZauBB4jcB6Rq4or8MPsO&index=21',\n",
       " '/watch?v=Oce6S1EksbI&list=PLpJTB7sffXfIhZauBB4jcB6Rq4or8MPsO&index=22',\n",
       " '/watch?v=-wzQ8PuQGpU&list=PLpJTB7sffXfIhZauBB4jcB6Rq4or8MPsO&index=23',\n",
       " '/watch?v=w-r42BTZ-8A&list=PLpJTB7sffXfIhZauBB4jcB6Rq4or8MPsO&index=24',\n",
       " '/watch?v=UJjONAIvZEw&list=PLpJTB7sffXfIhZauBB4jcB6Rq4or8MPsO&index=25',\n",
       " '/watch?v=aJ0NNm_kdps&list=PLpJTB7sffXfIhZauBB4jcB6Rq4or8MPsO&index=26',\n",
       " '/watch?v=70AxNA7BiqM&list=PLpJTB7sffXfIhZauBB4jcB6Rq4or8MPsO&index=27',\n",
       " '/watch?v=CBkr2-maAQ8&list=PLpJTB7sffXfIhZauBB4jcB6Rq4or8MPsO&index=28',\n",
       " '/watch?v=IPNVxh9eEkY&list=PLpJTB7sffXfIhZauBB4jcB6Rq4or8MPsO&index=29',\n",
       " '/watch?v=nf1KWs9o6fo&list=PLpJTB7sffXfIhZauBB4jcB6Rq4or8MPsO&index=30&t=0s']"
      ]
     },
     "execution_count": 39,
     "metadata": {},
     "output_type": "execute_result"
    }
   ],
   "source": [
    "tgt_list = [a['href'] for a in soup.find_all('a', href=True)]\n",
    "tgt_list = [n for n in tgt_list if re.search('watch',n)]\n",
    " \n",
    "unique_list= []\n",
    "for n in tgt_list:\n",
    "    if n not in unique_list:\n",
    "        unique_list.append(n)\n",
    "unique_list"
   ]
  },
  {
   "cell_type": "code",
   "execution_count": 47,
   "metadata": {},
   "outputs": [
    {
     "data": {
      "text/plain": [
       "['https://www.youtube.com/watch?v=ymsp1QHFMOg',\n",
       " 'https://www.youtube.com/watch?v=ymsp1QHFMOg',\n",
       " 'https://www.youtube.com/watch?v=B_lhxMjckG4',\n",
       " 'https://www.youtube.com/watch?v=jX1q6z6r3PY',\n",
       " 'https://www.youtube.com/watch?v=3DYdpOy3Yaw',\n",
       " 'https://www.youtube.com/watch?v=i57hxM8pA9Y',\n",
       " 'https://www.youtube.com/watch?v=qwNldCnY4aI',\n",
       " 'https://www.youtube.com/watch?v=ppHebvATsJ8',\n",
       " 'https://www.youtube.com/watch?v=HAyPqgr9rcw',\n",
       " 'https://www.youtube.com/watch?v=I09aebmabSw',\n",
       " 'https://www.youtube.com/watch?v=WvnhCHFRdOc',\n",
       " 'https://www.youtube.com/watch?v=XPzx9D8OQbc',\n",
       " 'https://www.youtube.com/watch?v=Fc35w2MQQrw',\n",
       " 'https://www.youtube.com/watch?v=_L2-RaH0djk',\n",
       " 'https://www.youtube.com/watch?v=XnfD9BWBANk',\n",
       " 'https://www.youtube.com/watch?v=bRtR9iaHvUs',\n",
       " 'https://www.youtube.com/watch?v=oJSpzc55CiE',\n",
       " 'https://www.youtube.com/watch?v=OsimvCy2DTs',\n",
       " 'https://www.youtube.com/watch?v=SmS0xWCOhBI',\n",
       " 'https://www.youtube.com/watch?v=9EzNRaPAfwg',\n",
       " 'https://www.youtube.com/watch?v=EkI6J8OCWVc',\n",
       " 'https://www.youtube.com/watch?v=Oce6S1EksbI',\n",
       " 'https://www.youtube.com/watch?v=-wzQ8PuQGpU',\n",
       " 'https://www.youtube.com/watch?v=w-r42BTZ-8A',\n",
       " 'https://www.youtube.com/watch?v=UJjONAIvZEw',\n",
       " 'https://www.youtube.com/watch?v=aJ0NNm_kdps',\n",
       " 'https://www.youtube.com/watch?v=70AxNA7BiqM',\n",
       " 'https://www.youtube.com/watch?v=CBkr2-maAQ8',\n",
       " 'https://www.youtube.com/watch?v=IPNVxh9eEkY',\n",
       " 'https://www.youtube.com/watch?v=nf1KWs9o6fo']"
      ]
     },
     "execution_count": 47,
     "metadata": {},
     "output_type": "execute_result"
    }
   ],
   "source": [
    "#make a list of all separate link in the youtube playlist\n",
    "play_list_link = []\n",
    "for idx,line in enumerate(unique_list):\n",
    "#     print(idx,line)\n",
    "    if 'https' in line: pass\n",
    "    else:\n",
    "        words = line.split('&list=')\n",
    "#         print(idx)\n",
    "        msg = 'https://www.youtube.com' + words[0]\n",
    "        play_list_link.append(msg)\n",
    "play_list_link\n",
    "    "
   ]
  },
  {
   "cell_type": "code",
   "execution_count": 49,
   "metadata": {},
   "outputs": [
    {
     "name": "stdout",
     "output_type": "stream",
     "text": [
      "https://www.youtube.com/watch?v=ymsp1QHFMOg\n",
      "https://www.youtube.com/watch?v=ymsp1QHFMOg\n",
      "https://www.youtube.com/watch?v=B_lhxMjckG4\n",
      "https://www.youtube.com/watch?v=jX1q6z6r3PY\n",
      "https://www.youtube.com/watch?v=3DYdpOy3Yaw\n",
      "https://www.youtube.com/watch?v=i57hxM8pA9Y\n",
      "https://www.youtube.com/watch?v=qwNldCnY4aI\n",
      "https://www.youtube.com/watch?v=ppHebvATsJ8\n"
     ]
    },
    {
     "ename": "VideoUnavailable",
     "evalue": "ppHebvATsJ8 is unavailable",
     "output_type": "error",
     "traceback": [
      "\u001b[1;31m---------------------------------------------------------------------------\u001b[0m",
      "\u001b[1;31mVideoUnavailable\u001b[0m                          Traceback (most recent call last)",
      "\u001b[1;32m<ipython-input-49-e7aa0746f6ce>\u001b[0m in \u001b[0;36m<module>\u001b[1;34m\u001b[0m\n\u001b[0;32m      1\u001b[0m \u001b[1;32mfor\u001b[0m \u001b[0mlink\u001b[0m \u001b[1;32min\u001b[0m \u001b[0mplay_list_link\u001b[0m\u001b[1;33m:\u001b[0m\u001b[1;33m\u001b[0m\u001b[1;33m\u001b[0m\u001b[0m\n\u001b[0;32m      2\u001b[0m     \u001b[0mprint\u001b[0m\u001b[1;33m(\u001b[0m\u001b[0mlink\u001b[0m\u001b[1;33m)\u001b[0m\u001b[1;33m\u001b[0m\u001b[1;33m\u001b[0m\u001b[0m\n\u001b[1;32m----> 3\u001b[1;33m     \u001b[0my\u001b[0m \u001b[1;33m=\u001b[0m \u001b[0mYouTube\u001b[0m\u001b[1;33m(\u001b[0m\u001b[0mlink\u001b[0m\u001b[1;33m)\u001b[0m\u001b[1;33m\u001b[0m\u001b[1;33m\u001b[0m\u001b[0m\n\u001b[0m\u001b[0;32m      4\u001b[0m     \u001b[0mt\u001b[0m \u001b[1;33m=\u001b[0m \u001b[0my\u001b[0m\u001b[1;33m.\u001b[0m\u001b[0mstreams\u001b[0m\u001b[1;33m.\u001b[0m\u001b[0mall\u001b[0m\u001b[1;33m(\u001b[0m\u001b[1;33m)\u001b[0m\u001b[1;33m\u001b[0m\u001b[1;33m\u001b[0m\u001b[0m\n\u001b[0;32m      5\u001b[0m     \u001b[0moutput_path\u001b[0m\u001b[1;33m=\u001b[0m\u001b[1;34mr\"D:\\DR16\\ForLeFaWA\"\u001b[0m\u001b[1;33m\u001b[0m\u001b[1;33m\u001b[0m\u001b[0m\n",
      "\u001b[1;32mC:\\Anaconda3\\lib\\site-packages\\pytube\\__main__.py\u001b[0m in \u001b[0;36m__init__\u001b[1;34m(self, url, defer_prefetch_init, on_progress_callback, on_complete_callback, proxies)\u001b[0m\n\u001b[0;32m     89\u001b[0m \u001b[1;33m\u001b[0m\u001b[0m\n\u001b[0;32m     90\u001b[0m         \u001b[1;32mif\u001b[0m \u001b[1;32mnot\u001b[0m \u001b[0mdefer_prefetch_init\u001b[0m\u001b[1;33m:\u001b[0m\u001b[1;33m\u001b[0m\u001b[1;33m\u001b[0m\u001b[0m\n\u001b[1;32m---> 91\u001b[1;33m             \u001b[0mself\u001b[0m\u001b[1;33m.\u001b[0m\u001b[0mprefetch\u001b[0m\u001b[1;33m(\u001b[0m\u001b[1;33m)\u001b[0m\u001b[1;33m\u001b[0m\u001b[1;33m\u001b[0m\u001b[0m\n\u001b[0m\u001b[0;32m     92\u001b[0m             \u001b[0mself\u001b[0m\u001b[1;33m.\u001b[0m\u001b[0mdescramble\u001b[0m\u001b[1;33m(\u001b[0m\u001b[1;33m)\u001b[0m\u001b[1;33m\u001b[0m\u001b[1;33m\u001b[0m\u001b[0m\n\u001b[0;32m     93\u001b[0m \u001b[1;33m\u001b[0m\u001b[0m\n",
      "\u001b[1;32mC:\\Anaconda3\\lib\\site-packages\\pytube\\__main__.py\u001b[0m in \u001b[0;36mprefetch\u001b[1;34m(self)\u001b[0m\n\u001b[0;32m    166\u001b[0m \u001b[1;33m\u001b[0m\u001b[0m\n\u001b[0;32m    167\u001b[0m         \u001b[1;32mif\u001b[0m \u001b[1;32mnot\u001b[0m \u001b[0mself\u001b[0m\u001b[1;33m.\u001b[0m\u001b[0mage_restricted\u001b[0m \u001b[1;32mand\u001b[0m \u001b[1;34m\"This video is private\"\u001b[0m \u001b[1;32min\u001b[0m \u001b[0mself\u001b[0m\u001b[1;33m.\u001b[0m\u001b[0mwatch_html\u001b[0m\u001b[1;33m:\u001b[0m\u001b[1;33m\u001b[0m\u001b[1;33m\u001b[0m\u001b[0m\n\u001b[1;32m--> 168\u001b[1;33m             \u001b[1;32mraise\u001b[0m \u001b[0mVideoUnavailable\u001b[0m\u001b[1;33m(\u001b[0m\u001b[0mvideo_id\u001b[0m\u001b[1;33m=\u001b[0m\u001b[0mself\u001b[0m\u001b[1;33m.\u001b[0m\u001b[0mvideo_id\u001b[0m\u001b[1;33m)\u001b[0m\u001b[1;33m\u001b[0m\u001b[1;33m\u001b[0m\u001b[0m\n\u001b[0m\u001b[0;32m    169\u001b[0m \u001b[1;33m\u001b[0m\u001b[0m\n\u001b[0;32m    170\u001b[0m         \u001b[1;32mif\u001b[0m \u001b[0mself\u001b[0m\u001b[1;33m.\u001b[0m\u001b[0mage_restricted\u001b[0m\u001b[1;33m:\u001b[0m\u001b[1;33m\u001b[0m\u001b[1;33m\u001b[0m\u001b[0m\n",
      "\u001b[1;31mVideoUnavailable\u001b[0m: ppHebvATsJ8 is unavailable"
     ]
    }
   ],
   "source": [
    "for link in play_list_link:\n",
    "    print(link)\n",
    "    y = YouTube(link)\n",
    "    t = y.streams.all()\n",
    "    output_path=r\"D:\\DR16\\ForLeFaWA\"\n",
    "    import os\n",
    "    if not os.path.exists(output_path): os.makedirs(output_path)\n",
    "    try: \n",
    "        t[0].download(output_path)\n",
    "    except Exception as e:\n",
    "        print(e)\n",
    "        pass"
   ]
  },
  {
   "cell_type": "markdown",
   "metadata": {},
   "source": [
    "Put all code together in one cell"
   ]
  },
  {
   "cell_type": "code",
   "execution_count": 11,
   "metadata": {},
   "outputs": [
    {
     "data": {
      "text/plain": [
       "['https://www.youtube.com/watch?v=Glac0znCDKo&list=PLpJTB7sffXfKfxBl-nCX-TJJYtDPaUyQt&index=2',\n",
       " 'https://www.youtube.com/watch?v=7BOd0-tiLn0&list=PLpJTB7sffXfKfxBl-nCX-TJJYtDPaUyQt&index=3',\n",
       " 'https://www.youtube.com/watch?v=XkbPY12WAqo&list=PLpJTB7sffXfKfxBl-nCX-TJJYtDPaUyQt&index=4',\n",
       " 'https://www.youtube.com/watch?v=JAtEyEBDec8&list=PLpJTB7sffXfKfxBl-nCX-TJJYtDPaUyQt&index=5',\n",
       " 'https://www.youtube.com/watch?v=NfxSj8cioyo&list=PLpJTB7sffXfKfxBl-nCX-TJJYtDPaUyQt&index=6',\n",
       " 'https://www.youtube.com/watch?v=m_SDq6kSXlY&list=PLpJTB7sffXfKfxBl-nCX-TJJYtDPaUyQt&index=7',\n",
       " 'https://www.youtube.com/watch?v=VOn5fUpghlY&list=PLpJTB7sffXfKfxBl-nCX-TJJYtDPaUyQt&index=8']"
      ]
     },
     "execution_count": 11,
     "metadata": {},
     "output_type": "execute_result"
    }
   ],
   "source": [
    "import requests\n",
    "import re\n",
    "from bs4 import BeautifulSoup\n",
    "website = 'https://www.youtube.com/playlist?list=PLpJTB7sffXfKfxBl-nCX-TJJYtDPaUyQt'\n",
    "r= requests.get(website)\n",
    "soup = BeautifulSoup(r.text)\n",
    "tgt_list = [a['href'] for a in soup.find_all('a', href=True)]\n",
    "tgt_list = [n for n in tgt_list if re.search('watch',n)]\n",
    " \n",
    "unique_list= []\n",
    "for n in tgt_list:\n",
    "    if n not in unique_list:\n",
    "        unique_list.append(n)\n",
    "# all the videos link in a playlist\n",
    "unique_list = ['https://www.youtube.com' + n for n in unique_list]\n",
    "unique_list"
   ]
  },
  {
   "cell_type": "code",
   "execution_count": 12,
   "metadata": {},
   "outputs": [
    {
     "name": "stdout",
     "output_type": "stream",
     "text": [
      "https://www.youtube.com/watch?v=Glac0znCDKo&list=PLpJTB7sffXfKfxBl-nCX-TJJYtDPaUyQt&index=2\n"
     ]
    },
    {
     "ename": "VideoUnavailable",
     "evalue": "Glac0znCDKo is unavailable",
     "output_type": "error",
     "traceback": [
      "\u001b[1;31m---------------------------------------------------------------------------\u001b[0m",
      "\u001b[1;31mVideoUnavailable\u001b[0m                          Traceback (most recent call last)",
      "\u001b[1;32m<ipython-input-12-d32de105148f>\u001b[0m in \u001b[0;36m<module>\u001b[1;34m\u001b[0m\n\u001b[0;32m      1\u001b[0m \u001b[1;32mfor\u001b[0m \u001b[0mlink\u001b[0m \u001b[1;32min\u001b[0m \u001b[0munique_list\u001b[0m\u001b[1;33m:\u001b[0m\u001b[1;33m\u001b[0m\u001b[1;33m\u001b[0m\u001b[0m\n\u001b[0;32m      2\u001b[0m     \u001b[0mprint\u001b[0m\u001b[1;33m(\u001b[0m\u001b[0mlink\u001b[0m\u001b[1;33m)\u001b[0m\u001b[1;33m\u001b[0m\u001b[1;33m\u001b[0m\u001b[0m\n\u001b[1;32m----> 3\u001b[1;33m     \u001b[0my\u001b[0m \u001b[1;33m=\u001b[0m \u001b[0mYouTube\u001b[0m\u001b[1;33m(\u001b[0m\u001b[0mlink\u001b[0m\u001b[1;33m)\u001b[0m\u001b[1;33m\u001b[0m\u001b[1;33m\u001b[0m\u001b[0m\n\u001b[0m\u001b[0;32m      4\u001b[0m     \u001b[0mt\u001b[0m \u001b[1;33m=\u001b[0m \u001b[0my\u001b[0m\u001b[1;33m.\u001b[0m\u001b[0mstreams\u001b[0m\u001b[1;33m.\u001b[0m\u001b[0mall\u001b[0m\u001b[1;33m(\u001b[0m\u001b[1;33m)\u001b[0m\u001b[1;33m\u001b[0m\u001b[1;33m\u001b[0m\u001b[0m\n\u001b[0;32m      5\u001b[0m     \u001b[0moutput_path\u001b[0m\u001b[1;33m=\u001b[0m\u001b[1;34mr\"D:\\DR16\\ForLeFaWA\\TT cam xuc Tu tong hop\"\u001b[0m\u001b[1;33m\u001b[0m\u001b[1;33m\u001b[0m\u001b[0m\n",
      "\u001b[1;32mC:\\Anaconda3\\lib\\site-packages\\pytube\\__main__.py\u001b[0m in \u001b[0;36m__init__\u001b[1;34m(self, url, defer_prefetch_init, on_progress_callback, on_complete_callback, proxies)\u001b[0m\n\u001b[0;32m     89\u001b[0m \u001b[1;33m\u001b[0m\u001b[0m\n\u001b[0;32m     90\u001b[0m         \u001b[1;32mif\u001b[0m \u001b[1;32mnot\u001b[0m \u001b[0mdefer_prefetch_init\u001b[0m\u001b[1;33m:\u001b[0m\u001b[1;33m\u001b[0m\u001b[1;33m\u001b[0m\u001b[0m\n\u001b[1;32m---> 91\u001b[1;33m             \u001b[0mself\u001b[0m\u001b[1;33m.\u001b[0m\u001b[0mprefetch\u001b[0m\u001b[1;33m(\u001b[0m\u001b[1;33m)\u001b[0m\u001b[1;33m\u001b[0m\u001b[1;33m\u001b[0m\u001b[0m\n\u001b[0m\u001b[0;32m     92\u001b[0m             \u001b[0mself\u001b[0m\u001b[1;33m.\u001b[0m\u001b[0mdescramble\u001b[0m\u001b[1;33m(\u001b[0m\u001b[1;33m)\u001b[0m\u001b[1;33m\u001b[0m\u001b[1;33m\u001b[0m\u001b[0m\n\u001b[0;32m     93\u001b[0m \u001b[1;33m\u001b[0m\u001b[0m\n",
      "\u001b[1;32mC:\\Anaconda3\\lib\\site-packages\\pytube\\__main__.py\u001b[0m in \u001b[0;36mprefetch\u001b[1;34m(self)\u001b[0m\n\u001b[0;32m    166\u001b[0m \u001b[1;33m\u001b[0m\u001b[0m\n\u001b[0;32m    167\u001b[0m         \u001b[1;32mif\u001b[0m \u001b[1;32mnot\u001b[0m \u001b[0mself\u001b[0m\u001b[1;33m.\u001b[0m\u001b[0mage_restricted\u001b[0m \u001b[1;32mand\u001b[0m \u001b[1;34m\"This video is private\"\u001b[0m \u001b[1;32min\u001b[0m \u001b[0mself\u001b[0m\u001b[1;33m.\u001b[0m\u001b[0mwatch_html\u001b[0m\u001b[1;33m:\u001b[0m\u001b[1;33m\u001b[0m\u001b[1;33m\u001b[0m\u001b[0m\n\u001b[1;32m--> 168\u001b[1;33m             \u001b[1;32mraise\u001b[0m \u001b[0mVideoUnavailable\u001b[0m\u001b[1;33m(\u001b[0m\u001b[0mvideo_id\u001b[0m\u001b[1;33m=\u001b[0m\u001b[0mself\u001b[0m\u001b[1;33m.\u001b[0m\u001b[0mvideo_id\u001b[0m\u001b[1;33m)\u001b[0m\u001b[1;33m\u001b[0m\u001b[1;33m\u001b[0m\u001b[0m\n\u001b[0m\u001b[0;32m    169\u001b[0m \u001b[1;33m\u001b[0m\u001b[0m\n\u001b[0;32m    170\u001b[0m         \u001b[1;32mif\u001b[0m \u001b[0mself\u001b[0m\u001b[1;33m.\u001b[0m\u001b[0mage_restricted\u001b[0m\u001b[1;33m:\u001b[0m\u001b[1;33m\u001b[0m\u001b[1;33m\u001b[0m\u001b[0m\n",
      "\u001b[1;31mVideoUnavailable\u001b[0m: Glac0znCDKo is unavailable"
     ]
    }
   ],
   "source": [
    "for link in unique_list:\n",
    "    print(link)\n",
    "    y = YouTube(link)\n",
    "    t = y.streams.all()\n",
    "    output_path=r\"D:\\DR16\\ForLeFaWA\"\n",
    "    import os\n",
    "    if not os.path.exists(output_path): os.makedirs(output_path)\n",
    "    t[0].download(output_path)"
   ]
  },
  {
   "cell_type": "code",
   "execution_count": 63,
   "metadata": {},
   "outputs": [],
   "source": [
    "from pytube import YouTube\n",
    "from moviepy.editor import *"
   ]
  },
  {
   "cell_type": "markdown",
   "metadata": {},
   "source": [
    "### 1.1.4. make a function to download youtube video playlist <a id='114'></a>\n",
    "[go to top](#top)<br>"
   ]
  },
  {
   "cell_type": "code",
   "execution_count": null,
   "metadata": {},
   "outputs": [],
   "source": [
    "#make a function to download youtube video playlist\n",
    "def tube_video_list(youtube_link,output_path):\n",
    "    import requests\n",
    "    import re\n",
    "    from bs4 import BeautifulSoup\n",
    "    website = youtube_link\n",
    "    r= requests.get(website)\n",
    "    soup = BeautifulSoup(r.text)\n",
    "    tgt_list = [a['href'] for a in soup.find_all('a', href=True)]\n",
    "    tgt_list = [n for n in tgt_list if re.search('watch',n)]\n",
    "\n",
    "    unique_list= []\n",
    "    for n in tgt_list:\n",
    "        if n not in unique_list:\n",
    "            unique_list.append(n)\n",
    "    # all the videos link in a playlist\n",
    "    unique_list = ['https://www.youtube.com' + n for n in unique_list]\n",
    "    for link in unique_list:\n",
    "        print(link)\n",
    "        y = YouTube(link)\n",
    "        t = y.streams.all()\n",
    "        import os\n",
    "        if not os.path.exists(output_path): os.makedirs(output_path)\n",
    "        t[0].download(output_path)"
   ]
  },
  {
   "cell_type": "code",
   "execution_count": 4,
   "metadata": {},
   "outputs": [
    {
     "name": "stdout",
     "output_type": "stream",
     "text": [
      "https://www.youtube.comhttps://accounts.google.com/ServiceLogin?passive=true&continue=https%3A%2F%2Fwww.youtube.com%2Fsignin%3Faction_handle_signin%3Dtrue%26app%3Ddesktop%26feature%3D__FEATURE__%26next%3D%252Fwatch%253Fv%253DGv9_4yMHFhI%2526list%253DPLblh5JKOoLUICTaGLRoHQDuF_7q2GfuJF%26hl%3Den&hl=en&uilel=3&service=youtube\n"
     ]
    },
    {
     "ename": "NameError",
     "evalue": "name 'YouTube' is not defined",
     "output_type": "error",
     "traceback": [
      "\u001b[1;31m---------------------------------------------------------------------------\u001b[0m",
      "\u001b[1;31mNameError\u001b[0m                                 Traceback (most recent call last)",
      "\u001b[1;32m<ipython-input-4-4c7909096e3e>\u001b[0m in \u001b[0;36m<module>\u001b[1;34m\u001b[0m\n\u001b[0;32m      2\u001b[0m \u001b[0myoutube_link\u001b[0m \u001b[1;33m=\u001b[0m \u001b[1;34m'https://www.youtube.com/watch?v=Gv9_4yMHFhI&list=PLblh5JKOoLUICTaGLRoHQDuF_7q2GfuJF'\u001b[0m\u001b[1;33m\u001b[0m\u001b[1;33m\u001b[0m\u001b[0m\n\u001b[0;32m      3\u001b[0m \u001b[0moutput_path\u001b[0m \u001b[1;33m=\u001b[0m \u001b[1;34mr'F:\\OneDrive - Curtin University of Technology Australia\\ToMaster\\pymath\\statquest_ml\\Video\\Machine Learning'\u001b[0m\u001b[1;33m\u001b[0m\u001b[1;33m\u001b[0m\u001b[0m\n\u001b[1;32m----> 4\u001b[1;33m \u001b[0mtube_video_list\u001b[0m\u001b[1;33m(\u001b[0m\u001b[0myoutube_link\u001b[0m\u001b[1;33m,\u001b[0m\u001b[0moutput_path\u001b[0m\u001b[1;33m)\u001b[0m\u001b[1;33m\u001b[0m\u001b[1;33m\u001b[0m\u001b[0m\n\u001b[0m",
      "\u001b[1;32m<ipython-input-3-f457288f12ca>\u001b[0m in \u001b[0;36mtube_video_list\u001b[1;34m(youtube_link, output_path)\u001b[0m\n\u001b[0;32m     18\u001b[0m     \u001b[1;32mfor\u001b[0m \u001b[0mlink\u001b[0m \u001b[1;32min\u001b[0m \u001b[0munique_list\u001b[0m\u001b[1;33m:\u001b[0m\u001b[1;33m\u001b[0m\u001b[1;33m\u001b[0m\u001b[0m\n\u001b[0;32m     19\u001b[0m         \u001b[0mprint\u001b[0m\u001b[1;33m(\u001b[0m\u001b[0mlink\u001b[0m\u001b[1;33m)\u001b[0m\u001b[1;33m\u001b[0m\u001b[1;33m\u001b[0m\u001b[0m\n\u001b[1;32m---> 20\u001b[1;33m         \u001b[0my\u001b[0m \u001b[1;33m=\u001b[0m \u001b[0mYouTube\u001b[0m\u001b[1;33m(\u001b[0m\u001b[0mlink\u001b[0m\u001b[1;33m)\u001b[0m\u001b[1;33m\u001b[0m\u001b[1;33m\u001b[0m\u001b[0m\n\u001b[0m\u001b[0;32m     21\u001b[0m         \u001b[0mt\u001b[0m \u001b[1;33m=\u001b[0m \u001b[0my\u001b[0m\u001b[1;33m.\u001b[0m\u001b[0mstreams\u001b[0m\u001b[1;33m.\u001b[0m\u001b[0mall\u001b[0m\u001b[1;33m(\u001b[0m\u001b[1;33m)\u001b[0m\u001b[1;33m\u001b[0m\u001b[1;33m\u001b[0m\u001b[0m\n\u001b[0;32m     22\u001b[0m         \u001b[1;32mimport\u001b[0m \u001b[0mos\u001b[0m\u001b[1;33m\u001b[0m\u001b[1;33m\u001b[0m\u001b[0m\n",
      "\u001b[1;31mNameError\u001b[0m: name 'YouTube' is not defined"
     ]
    }
   ],
   "source": [
    "#use the function\n",
    "youtube_link = 'https://www.youtube.com/watch?v=Gv9_4yMHFhI&list=PLblh5JKOoLUICTaGLRoHQDuF_7q2GfuJF'\n",
    "output_path = r'F:\\OneDrive - Curtin University of Technology Australia\\ToMaster\\pymath\\statquest_ml\\Video\\Machine Learning'\n",
    "tube_video_list(youtube_link,output_path)\n"
   ]
  },
  {
   "cell_type": "markdown",
   "metadata": {},
   "source": [
    "Some playlist for download later\n",
    "https://www.youtube.com/watch?v=4r0Xa-4Urtg&list=PLv5AdslB0xvuYb_HUaNH5q61egEhQsRfL\n",
    "https://www.youtube.com/watch?v=tKYD8p_I17A&list=PLbnbxIx3vYjXDgun1avmain-rUG75DMhK\n",
    "https://www.youtube.com/watch?v=ZlY6IbzJLWg&list=PLv5AdslB0xvskZlHjDU1Z2rEagjk86sT3\n",
    "https://www.youtube.com/watch?v=t-sli_6h2Tw&list=PLP86Y-o3C1ED28-tM3p59VXDSYGSWasXB\n"
   ]
  },
  {
   "cell_type": "markdown",
   "metadata": {},
   "source": [
    "### 1.1.5. Make a function to download and convert a youtube playlist to mp3 <a id='115'></a>\n",
    "[go to top](#top)<br>\n"
   ]
  },
  {
   "cell_type": "code",
   "execution_count": 82,
   "metadata": {},
   "outputs": [],
   "source": [
    "#make a function to download youtube video playlist\n",
    "def tube_audio_list(youtube_link,output_path):\n",
    "    import requests\n",
    "    import re\n",
    "    from bs4 import BeautifulSoup\n",
    "    website = youtube_link\n",
    "    r= requests.get(website)\n",
    "    soup = BeautifulSoup(r.text)\n",
    "    tgt_list = [a['href'] for a in soup.find_all('a', href=True)]\n",
    "    tgt_list = [n for n in tgt_list if re.search('watch',n)]\n",
    "\n",
    "    unique_list= []\n",
    "    for n in tgt_list:\n",
    "        if n not in unique_list:\n",
    "            unique_list.append(n)\n",
    "    # all the videos link in a playlist\n",
    "    unique_list = ['https://www.youtube.com' + n for n in unique_list]\n",
    "    for link in unique_list:\n",
    "        print(link)\n",
    "        y = YouTube(link)\n",
    "        t = y.streams.filter(only_audio=True).all()\n",
    "        import os\n",
    "        if not os.path.exists(output_path): os.makedirs(output_path)\n",
    "        t[0].download(output_path)"
   ]
  },
  {
   "cell_type": "code",
   "execution_count": 83,
   "metadata": {},
   "outputs": [
    {
     "name": "stdout",
     "output_type": "stream",
     "text": [
      "https://www.youtube.com/watch?v=yCtHNgO4-Ps&list=PL2wAh3DlzOuS3xj8ET9N8DUM3mmEpH2aZ\n"
     ]
    },
    {
     "ename": "KeyboardInterrupt",
     "evalue": "",
     "output_type": "error",
     "traceback": [
      "\u001b[1;31m---------------------------------------------------------------------------\u001b[0m",
      "\u001b[1;31mKeyboardInterrupt\u001b[0m                         Traceback (most recent call last)",
      "\u001b[1;32m<ipython-input-83-d6f72bcd8429>\u001b[0m in \u001b[0;36m<module>\u001b[1;34m\u001b[0m\n\u001b[0;32m      2\u001b[0m \u001b[0myoutube_link\u001b[0m \u001b[1;33m=\u001b[0m \u001b[1;34m'https://www.youtube.com/playlist?list=PL2wAh3DlzOuS3xj8ET9N8DUM3mmEpH2aZ'\u001b[0m\u001b[1;33m\u001b[0m\u001b[1;33m\u001b[0m\u001b[0m\n\u001b[0;32m      3\u001b[0m \u001b[0moutput_path\u001b[0m \u001b[1;33m=\u001b[0m \u001b[1;34mr'F:\\OneDrive - Curtin University of Technology Australia\\ToMaster\\pyraster\\training_materials\\youtube\\05.-GST 105 Remote Sensing Using QGIS 2.8 & GRASS 7.0'\u001b[0m\u001b[1;33m\u001b[0m\u001b[1;33m\u001b[0m\u001b[0m\n\u001b[1;32m----> 4\u001b[1;33m \u001b[0mtube_audio_list\u001b[0m\u001b[1;33m(\u001b[0m\u001b[0myoutube_link\u001b[0m\u001b[1;33m,\u001b[0m\u001b[0moutput_path\u001b[0m\u001b[1;33m)\u001b[0m\u001b[1;33m\u001b[0m\u001b[1;33m\u001b[0m\u001b[0m\n\u001b[0m",
      "\u001b[1;32m<ipython-input-82-77b2d6726c7b>\u001b[0m in \u001b[0;36mtube_audio_list\u001b[1;34m(youtube_link, output_path)\u001b[0m\n\u001b[0;32m     22\u001b[0m         \u001b[1;32mimport\u001b[0m \u001b[0mos\u001b[0m\u001b[1;33m\u001b[0m\u001b[1;33m\u001b[0m\u001b[0m\n\u001b[0;32m     23\u001b[0m         \u001b[1;32mif\u001b[0m \u001b[1;32mnot\u001b[0m \u001b[0mos\u001b[0m\u001b[1;33m.\u001b[0m\u001b[0mpath\u001b[0m\u001b[1;33m.\u001b[0m\u001b[0mexists\u001b[0m\u001b[1;33m(\u001b[0m\u001b[0moutput_path\u001b[0m\u001b[1;33m)\u001b[0m\u001b[1;33m:\u001b[0m \u001b[0mos\u001b[0m\u001b[1;33m.\u001b[0m\u001b[0mmakedirs\u001b[0m\u001b[1;33m(\u001b[0m\u001b[0moutput_path\u001b[0m\u001b[1;33m)\u001b[0m\u001b[1;33m\u001b[0m\u001b[1;33m\u001b[0m\u001b[0m\n\u001b[1;32m---> 24\u001b[1;33m         \u001b[0mt\u001b[0m\u001b[1;33m[\u001b[0m\u001b[1;36m0\u001b[0m\u001b[1;33m]\u001b[0m\u001b[1;33m.\u001b[0m\u001b[0mdownload\u001b[0m\u001b[1;33m(\u001b[0m\u001b[0moutput_path\u001b[0m\u001b[1;33m)\u001b[0m\u001b[1;33m\u001b[0m\u001b[1;33m\u001b[0m\u001b[0m\n\u001b[0m",
      "\u001b[1;32mC:\\ProgramData\\Anaconda3\\lib\\site-packages\\pytube\\streams.py\u001b[0m in \u001b[0;36mdownload\u001b[1;34m(self, output_path, filename, filename_prefix)\u001b[0m\n\u001b[0;32m    222\u001b[0m \u001b[1;33m\u001b[0m\u001b[0m\n\u001b[0;32m    223\u001b[0m         \u001b[1;32mwith\u001b[0m \u001b[0mopen\u001b[0m\u001b[1;33m(\u001b[0m\u001b[0mfp\u001b[0m\u001b[1;33m,\u001b[0m \u001b[1;34m'wb'\u001b[0m\u001b[1;33m)\u001b[0m \u001b[1;32mas\u001b[0m \u001b[0mfh\u001b[0m\u001b[1;33m:\u001b[0m\u001b[1;33m\u001b[0m\u001b[1;33m\u001b[0m\u001b[0m\n\u001b[1;32m--> 224\u001b[1;33m             \u001b[1;32mfor\u001b[0m \u001b[0mchunk\u001b[0m \u001b[1;32min\u001b[0m \u001b[0mrequest\u001b[0m\u001b[1;33m.\u001b[0m\u001b[0mget\u001b[0m\u001b[1;33m(\u001b[0m\u001b[0mself\u001b[0m\u001b[1;33m.\u001b[0m\u001b[0murl\u001b[0m\u001b[1;33m,\u001b[0m \u001b[0mstreaming\u001b[0m\u001b[1;33m=\u001b[0m\u001b[1;32mTrue\u001b[0m\u001b[1;33m)\u001b[0m\u001b[1;33m:\u001b[0m\u001b[1;33m\u001b[0m\u001b[1;33m\u001b[0m\u001b[0m\n\u001b[0m\u001b[0;32m    225\u001b[0m                 \u001b[1;31m# reduce the (bytes) remainder by the length of the chunk.\u001b[0m\u001b[1;33m\u001b[0m\u001b[1;33m\u001b[0m\u001b[1;33m\u001b[0m\u001b[0m\n\u001b[0;32m    226\u001b[0m                 \u001b[0mbytes_remaining\u001b[0m \u001b[1;33m-=\u001b[0m \u001b[0mlen\u001b[0m\u001b[1;33m(\u001b[0m\u001b[0mchunk\u001b[0m\u001b[1;33m)\u001b[0m\u001b[1;33m\u001b[0m\u001b[1;33m\u001b[0m\u001b[0m\n",
      "\u001b[1;32mC:\\ProgramData\\Anaconda3\\lib\\site-packages\\pytube\\request.py\u001b[0m in \u001b[0;36mstream_response\u001b[1;34m(response, chunk_size)\u001b[0m\n\u001b[0;32m     35\u001b[0m     \u001b[1;34m\"\"\"Read the response in chunks.\"\"\"\u001b[0m\u001b[1;33m\u001b[0m\u001b[1;33m\u001b[0m\u001b[0m\n\u001b[0;32m     36\u001b[0m     \u001b[1;32mwhile\u001b[0m \u001b[1;32mTrue\u001b[0m\u001b[1;33m:\u001b[0m\u001b[1;33m\u001b[0m\u001b[1;33m\u001b[0m\u001b[0m\n\u001b[1;32m---> 37\u001b[1;33m         \u001b[0mbuf\u001b[0m \u001b[1;33m=\u001b[0m \u001b[0mresponse\u001b[0m\u001b[1;33m.\u001b[0m\u001b[0mread\u001b[0m\u001b[1;33m(\u001b[0m\u001b[0mchunk_size\u001b[0m\u001b[1;33m)\u001b[0m\u001b[1;33m\u001b[0m\u001b[1;33m\u001b[0m\u001b[0m\n\u001b[0m\u001b[0;32m     38\u001b[0m         \u001b[1;32mif\u001b[0m \u001b[1;32mnot\u001b[0m \u001b[0mbuf\u001b[0m\u001b[1;33m:\u001b[0m\u001b[1;33m\u001b[0m\u001b[1;33m\u001b[0m\u001b[0m\n\u001b[0;32m     39\u001b[0m             \u001b[1;32mbreak\u001b[0m\u001b[1;33m\u001b[0m\u001b[1;33m\u001b[0m\u001b[0m\n",
      "\u001b[1;32mC:\\ProgramData\\Anaconda3\\lib\\http\\client.py\u001b[0m in \u001b[0;36mread\u001b[1;34m(self, amt)\u001b[0m\n\u001b[0;32m    445\u001b[0m             \u001b[1;31m# Amount is given, implement using readinto\u001b[0m\u001b[1;33m\u001b[0m\u001b[1;33m\u001b[0m\u001b[1;33m\u001b[0m\u001b[0m\n\u001b[0;32m    446\u001b[0m             \u001b[0mb\u001b[0m \u001b[1;33m=\u001b[0m \u001b[0mbytearray\u001b[0m\u001b[1;33m(\u001b[0m\u001b[0mamt\u001b[0m\u001b[1;33m)\u001b[0m\u001b[1;33m\u001b[0m\u001b[1;33m\u001b[0m\u001b[0m\n\u001b[1;32m--> 447\u001b[1;33m             \u001b[0mn\u001b[0m \u001b[1;33m=\u001b[0m \u001b[0mself\u001b[0m\u001b[1;33m.\u001b[0m\u001b[0mreadinto\u001b[0m\u001b[1;33m(\u001b[0m\u001b[0mb\u001b[0m\u001b[1;33m)\u001b[0m\u001b[1;33m\u001b[0m\u001b[1;33m\u001b[0m\u001b[0m\n\u001b[0m\u001b[0;32m    448\u001b[0m             \u001b[1;32mreturn\u001b[0m \u001b[0mmemoryview\u001b[0m\u001b[1;33m(\u001b[0m\u001b[0mb\u001b[0m\u001b[1;33m)\u001b[0m\u001b[1;33m[\u001b[0m\u001b[1;33m:\u001b[0m\u001b[0mn\u001b[0m\u001b[1;33m]\u001b[0m\u001b[1;33m.\u001b[0m\u001b[0mtobytes\u001b[0m\u001b[1;33m(\u001b[0m\u001b[1;33m)\u001b[0m\u001b[1;33m\u001b[0m\u001b[1;33m\u001b[0m\u001b[0m\n\u001b[0;32m    449\u001b[0m         \u001b[1;32melse\u001b[0m\u001b[1;33m:\u001b[0m\u001b[1;33m\u001b[0m\u001b[1;33m\u001b[0m\u001b[0m\n",
      "\u001b[1;32mC:\\ProgramData\\Anaconda3\\lib\\http\\client.py\u001b[0m in \u001b[0;36mreadinto\u001b[1;34m(self, b)\u001b[0m\n\u001b[0;32m    489\u001b[0m         \u001b[1;31m# connection, and the user is reading more bytes than will be provided\u001b[0m\u001b[1;33m\u001b[0m\u001b[1;33m\u001b[0m\u001b[1;33m\u001b[0m\u001b[0m\n\u001b[0;32m    490\u001b[0m         \u001b[1;31m# (for example, reading in 1k chunks)\u001b[0m\u001b[1;33m\u001b[0m\u001b[1;33m\u001b[0m\u001b[1;33m\u001b[0m\u001b[0m\n\u001b[1;32m--> 491\u001b[1;33m         \u001b[0mn\u001b[0m \u001b[1;33m=\u001b[0m \u001b[0mself\u001b[0m\u001b[1;33m.\u001b[0m\u001b[0mfp\u001b[0m\u001b[1;33m.\u001b[0m\u001b[0mreadinto\u001b[0m\u001b[1;33m(\u001b[0m\u001b[0mb\u001b[0m\u001b[1;33m)\u001b[0m\u001b[1;33m\u001b[0m\u001b[1;33m\u001b[0m\u001b[0m\n\u001b[0m\u001b[0;32m    492\u001b[0m         \u001b[1;32mif\u001b[0m \u001b[1;32mnot\u001b[0m \u001b[0mn\u001b[0m \u001b[1;32mand\u001b[0m \u001b[0mb\u001b[0m\u001b[1;33m:\u001b[0m\u001b[1;33m\u001b[0m\u001b[1;33m\u001b[0m\u001b[0m\n\u001b[0;32m    493\u001b[0m             \u001b[1;31m# Ideally, we would raise IncompleteRead if the content-length\u001b[0m\u001b[1;33m\u001b[0m\u001b[1;33m\u001b[0m\u001b[1;33m\u001b[0m\u001b[0m\n",
      "\u001b[1;32mC:\\ProgramData\\Anaconda3\\lib\\socket.py\u001b[0m in \u001b[0;36mreadinto\u001b[1;34m(self, b)\u001b[0m\n\u001b[0;32m    587\u001b[0m         \u001b[1;32mwhile\u001b[0m \u001b[1;32mTrue\u001b[0m\u001b[1;33m:\u001b[0m\u001b[1;33m\u001b[0m\u001b[1;33m\u001b[0m\u001b[0m\n\u001b[0;32m    588\u001b[0m             \u001b[1;32mtry\u001b[0m\u001b[1;33m:\u001b[0m\u001b[1;33m\u001b[0m\u001b[1;33m\u001b[0m\u001b[0m\n\u001b[1;32m--> 589\u001b[1;33m                 \u001b[1;32mreturn\u001b[0m \u001b[0mself\u001b[0m\u001b[1;33m.\u001b[0m\u001b[0m_sock\u001b[0m\u001b[1;33m.\u001b[0m\u001b[0mrecv_into\u001b[0m\u001b[1;33m(\u001b[0m\u001b[0mb\u001b[0m\u001b[1;33m)\u001b[0m\u001b[1;33m\u001b[0m\u001b[1;33m\u001b[0m\u001b[0m\n\u001b[0m\u001b[0;32m    590\u001b[0m             \u001b[1;32mexcept\u001b[0m \u001b[0mtimeout\u001b[0m\u001b[1;33m:\u001b[0m\u001b[1;33m\u001b[0m\u001b[1;33m\u001b[0m\u001b[0m\n\u001b[0;32m    591\u001b[0m                 \u001b[0mself\u001b[0m\u001b[1;33m.\u001b[0m\u001b[0m_timeout_occurred\u001b[0m \u001b[1;33m=\u001b[0m \u001b[1;32mTrue\u001b[0m\u001b[1;33m\u001b[0m\u001b[1;33m\u001b[0m\u001b[0m\n",
      "\u001b[1;32mC:\\ProgramData\\Anaconda3\\lib\\ssl.py\u001b[0m in \u001b[0;36mrecv_into\u001b[1;34m(self, buffer, nbytes, flags)\u001b[0m\n\u001b[0;32m   1050\u001b[0m                   \u001b[1;34m\"non-zero flags not allowed in calls to recv_into() on %s\"\u001b[0m \u001b[1;33m%\u001b[0m\u001b[1;33m\u001b[0m\u001b[1;33m\u001b[0m\u001b[0m\n\u001b[0;32m   1051\u001b[0m                   self.__class__)\n\u001b[1;32m-> 1052\u001b[1;33m             \u001b[1;32mreturn\u001b[0m \u001b[0mself\u001b[0m\u001b[1;33m.\u001b[0m\u001b[0mread\u001b[0m\u001b[1;33m(\u001b[0m\u001b[0mnbytes\u001b[0m\u001b[1;33m,\u001b[0m \u001b[0mbuffer\u001b[0m\u001b[1;33m)\u001b[0m\u001b[1;33m\u001b[0m\u001b[1;33m\u001b[0m\u001b[0m\n\u001b[0m\u001b[0;32m   1053\u001b[0m         \u001b[1;32melse\u001b[0m\u001b[1;33m:\u001b[0m\u001b[1;33m\u001b[0m\u001b[1;33m\u001b[0m\u001b[0m\n\u001b[0;32m   1054\u001b[0m             \u001b[1;32mreturn\u001b[0m \u001b[0msuper\u001b[0m\u001b[1;33m(\u001b[0m\u001b[1;33m)\u001b[0m\u001b[1;33m.\u001b[0m\u001b[0mrecv_into\u001b[0m\u001b[1;33m(\u001b[0m\u001b[0mbuffer\u001b[0m\u001b[1;33m,\u001b[0m \u001b[0mnbytes\u001b[0m\u001b[1;33m,\u001b[0m \u001b[0mflags\u001b[0m\u001b[1;33m)\u001b[0m\u001b[1;33m\u001b[0m\u001b[1;33m\u001b[0m\u001b[0m\n",
      "\u001b[1;32mC:\\ProgramData\\Anaconda3\\lib\\ssl.py\u001b[0m in \u001b[0;36mread\u001b[1;34m(self, len, buffer)\u001b[0m\n\u001b[0;32m    909\u001b[0m         \u001b[1;32mtry\u001b[0m\u001b[1;33m:\u001b[0m\u001b[1;33m\u001b[0m\u001b[1;33m\u001b[0m\u001b[0m\n\u001b[0;32m    910\u001b[0m             \u001b[1;32mif\u001b[0m \u001b[0mbuffer\u001b[0m \u001b[1;32mis\u001b[0m \u001b[1;32mnot\u001b[0m \u001b[1;32mNone\u001b[0m\u001b[1;33m:\u001b[0m\u001b[1;33m\u001b[0m\u001b[1;33m\u001b[0m\u001b[0m\n\u001b[1;32m--> 911\u001b[1;33m                 \u001b[1;32mreturn\u001b[0m \u001b[0mself\u001b[0m\u001b[1;33m.\u001b[0m\u001b[0m_sslobj\u001b[0m\u001b[1;33m.\u001b[0m\u001b[0mread\u001b[0m\u001b[1;33m(\u001b[0m\u001b[0mlen\u001b[0m\u001b[1;33m,\u001b[0m \u001b[0mbuffer\u001b[0m\u001b[1;33m)\u001b[0m\u001b[1;33m\u001b[0m\u001b[1;33m\u001b[0m\u001b[0m\n\u001b[0m\u001b[0;32m    912\u001b[0m             \u001b[1;32melse\u001b[0m\u001b[1;33m:\u001b[0m\u001b[1;33m\u001b[0m\u001b[1;33m\u001b[0m\u001b[0m\n\u001b[0;32m    913\u001b[0m                 \u001b[1;32mreturn\u001b[0m \u001b[0mself\u001b[0m\u001b[1;33m.\u001b[0m\u001b[0m_sslobj\u001b[0m\u001b[1;33m.\u001b[0m\u001b[0mread\u001b[0m\u001b[1;33m(\u001b[0m\u001b[0mlen\u001b[0m\u001b[1;33m)\u001b[0m\u001b[1;33m\u001b[0m\u001b[1;33m\u001b[0m\u001b[0m\n",
      "\u001b[1;31mKeyboardInterrupt\u001b[0m: "
     ]
    }
   ],
   "source": [
    "#use the function\n",
    "youtube_link = 'https://www.youtube.com/playlist?list=PL2wAh3DlzOuS3xj8ET9N8DUM3mmEpH2aZ'\n",
    "output_path = r'F:\\OneDrive - Curtin University of Technology Australia\\ToMaster\\pyraster\\training_materials\\youtube\\05.-GST 105 Remote Sensing Using QGIS 2.8 & GRASS 7.0'\n",
    "tube_audio_list(youtube_link,output_path)\n"
   ]
  },
  {
   "cell_type": "markdown",
   "metadata": {},
   "source": [
    "**Take home note:** \n",
    "* ``-"
   ]
  },
  {
   "cell_type": "markdown",
   "metadata": {},
   "source": [
    "## 1.2 Using youtube-dl <a id='12'></a>\n",
    "[go to top](#top)<br>"
   ]
  },
  {
   "cell_type": "markdown",
   "metadata": {},
   "source": [
    "Instruction can be found here:"
   ]
  },
  {
   "cell_type": "code",
   "execution_count": 4,
   "metadata": {},
   "outputs": [
    {
     "data": {
      "image/jpeg": "[encoded data removed]",
      "text/html": [
       "\n",
       "        <iframe\n",
       "            width=\"600\"\n",
       "            height=\"400\"\n",
       "            src=\"https://www.youtube.com/embed/JcZn5H5ZuyM\"\n",
       "            frameborder=\"0\"\n",
       "            allowfullscreen\n",
       "        ></iframe>\n",
       "        "
      ],
      "text/plain": [
       "<IPython.lib.display.YouTubeVideo at 0x178c91a2fd0>"
      ]
     },
     "execution_count": 4,
     "metadata": {},
     "output_type": "execute_result"
    }
   ],
   "source": [
    "from IPython.display import YouTubeVideo \n",
    "YouTubeVideo(id='JcZn5H5ZuyM',width=600,height=400)"
   ]
  },
  {
   "cell_type": "markdown",
   "metadata": {},
   "source": [
    "## 1.3 Toc 13 <a id='13'></a>\n",
    "[go to top](#top)<br>"
   ]
  },
  {
   "cell_type": "markdown",
   "metadata": {},
   "source": [
    "## 1.4 Toc 14 <a id='14'></a>\n",
    "[go to top](#top)<br>"
   ]
  },
  {
   "cell_type": "markdown",
   "metadata": {},
   "source": [
    "## 1.5 Toc 15 <a id='15'></a>\n",
    "[go to top](#top)<br>"
   ]
  },
  {
   "cell_type": "markdown",
   "metadata": {},
   "source": [
    "## 1.6 Toc 16 <a id='16'></a>\n",
    "[go to top](#top)<br>"
   ]
  },
  {
   "cell_type": "markdown",
   "metadata": {},
   "source": [
    "## 1.7 Toc 17 <a id='17'></a>\n",
    "[go to top](#top)<br>"
   ]
  },
  {
   "cell_type": "markdown",
   "metadata": {},
   "source": [
    "## 1.8 Toc 18 <a id='18'></a>\n",
    "[go to top](#top)<br>"
   ]
  },
  {
   "cell_type": "markdown",
   "metadata": {},
   "source": [
    "## 1.9 Toc 19 <a id='19'></a>\n",
    "[go to top](#top)<br>"
   ]
  },
  {
   "cell_type": "markdown",
   "metadata": {},
   "source": [
    "## 1.10 Toc 110 <a id='110'></a>\n",
    "[go to top](#top)<br>"
   ]
  },
  {
   "cell_type": "markdown",
   "metadata": {},
   "source": [
    "# 2. MoviePy Converting from Mp4 to mp3(from a folder with mp4 files) <a id='2'></a>\n",
    "[go to top](#top)<br>"
   ]
  },
  {
   "cell_type": "markdown",
   "metadata": {},
   "source": [
    "## 2.1 scripts <a id='21'></a>\n",
    "[go to top](#top)<br>"
   ]
  },
  {
   "cell_type": "code",
   "execution_count": 9,
   "metadata": {},
   "outputs": [
    {
     "name": "stdout",
     "output_type": "stream",
     "text": [
      "pygame 1.9.6\n",
      "Hello from the pygame community. https://www.pygame.org/contribute.html\n"
     ]
    }
   ],
   "source": [
    "from pytube import YouTube\n",
    "from moviepy.editor import *"
   ]
  },
  {
   "cell_type": "code",
   "execution_count": null,
   "metadata": {},
   "outputs": [],
   "source": [
    "import moviepy.editor as mp\n",
    "import re\n",
    "tgt_folder = \"/folder/contains/your/mp4\"\n",
    "for file in [n for n in os.listdir(tgt_folder) if re.search('mp4',n)]:\n",
    "full_path = os.path.join(tgt_folder, file)\n",
    "output_path = os.path.join(tgt_folder, os.path.splitext(file)[0] + '.mp3')\n",
    "clip = mp.AudioFileClip(full_path).subclip(10,) # disable if do not want any clipping\n",
    "clip.write_audiofile(output_path)"
   ]
  },
  {
   "cell_type": "code",
   "execution_count": 67,
   "metadata": {},
   "outputs": [],
   "source": [
    "from pytube import YouTube\n",
    "from moviepy.editor import *"
   ]
  },
  {
   "cell_type": "markdown",
   "metadata": {},
   "source": [
    "## 2.2 Make a function to convert from video to audio, to the same folder <a id='22'></a>\n",
    "[go to top](#top)<br>"
   ]
  },
  {
   "cell_type": "code",
   "execution_count": 4,
   "metadata": {},
   "outputs": [],
   "source": [
    "#make a function to convert from video to audio, to the same folder\n",
    "def video2audioSame(tgt_folder):\n",
    "    import os\n",
    "    from pytube import YouTube\n",
    "    import moviepy.editor as mp\n",
    "    import re\n",
    "    for file in [n for n in os.listdir(tgt_folder) if re.search('wmv',n)]:\n",
    "        full_path = os.path.join(tgt_folder, file)\n",
    "        output_path = os.path.join(tgt_folder, os.path.splitext(file)[0] + '.mp3')\n",
    "        clip = mp.AudioFileClip(full_path).subclip(0,) # disable if do not want any clipping\n",
    "        clip.write_audiofile(output_path)"
   ]
  },
  {
   "cell_type": "code",
   "execution_count": 16,
   "metadata": {},
   "outputs": [],
   "source": [
    "#make a function to convert from video to audio, to the same folder\n",
    "def video2audioSame(tgt_folder):\n",
    "    import os\n",
    "    from pytube import YouTube\n",
    "    import moviepy.editor as mp\n",
    "    import re\n",
    "    for file in [n for n in os.listdir(tgt_folder) if re.search('mp4',n)]:\n",
    "        full_path = os.path.join(tgt_folder, file)\n",
    "        output_path = os.path.join(tgt_folder, os.path.splitext(file)[0] + '.mp3')\n",
    "        clip = mp.AudioFileClip(full_path).subclip(0,) # disable if do not want any clipping\n",
    "        clip.write_audiofile(output_path)"
   ]
  },
  {
   "cell_type": "code",
   "execution_count": 17,
   "metadata": {},
   "outputs": [
    {
     "name": "stdout",
     "output_type": "stream",
     "text": [
      "MoviePy - Writing audio in %s\n"
     ]
    },
    {
     "name": "stderr",
     "output_type": "stream",
     "text": [
      "                                                                                                                       \r"
     ]
    },
    {
     "name": "stdout",
     "output_type": "stream",
     "text": [
      "MoviePy - Done.\n",
      "MoviePy - Writing audio in %s\n"
     ]
    },
    {
     "name": "stderr",
     "output_type": "stream",
     "text": [
      "                                                                                                                       \r"
     ]
    },
    {
     "name": "stdout",
     "output_type": "stream",
     "text": [
      "MoviePy - Done.\n",
      "MoviePy - Writing audio in %s\n"
     ]
    },
    {
     "name": "stderr",
     "output_type": "stream",
     "text": [
      "                                                                                                                       \r"
     ]
    },
    {
     "name": "stdout",
     "output_type": "stream",
     "text": [
      "MoviePy - Done.\n",
      "MoviePy - Writing audio in %s\n"
     ]
    },
    {
     "name": "stderr",
     "output_type": "stream",
     "text": [
      "                                                                                                                       \r"
     ]
    },
    {
     "name": "stdout",
     "output_type": "stream",
     "text": [
      "MoviePy - Done.\n",
      "MoviePy - Writing audio in %s\n"
     ]
    },
    {
     "name": "stderr",
     "output_type": "stream",
     "text": [
      "                                                                                                                       \r"
     ]
    },
    {
     "name": "stdout",
     "output_type": "stream",
     "text": [
      "MoviePy - Done.\n",
      "MoviePy - Writing audio in %s\n"
     ]
    },
    {
     "name": "stderr",
     "output_type": "stream",
     "text": [
      "                                                                                                                       \r"
     ]
    },
    {
     "name": "stdout",
     "output_type": "stream",
     "text": [
      "MoviePy - Done.\n",
      "MoviePy - Writing audio in %s\n"
     ]
    },
    {
     "name": "stderr",
     "output_type": "stream",
     "text": [
      "                                                                                                                       \r"
     ]
    },
    {
     "name": "stdout",
     "output_type": "stream",
     "text": [
      "MoviePy - Done.\n",
      "MoviePy - Writing audio in %s\n"
     ]
    },
    {
     "name": "stderr",
     "output_type": "stream",
     "text": [
      "                                                                                                                       \r"
     ]
    },
    {
     "name": "stdout",
     "output_type": "stream",
     "text": [
      "MoviePy - Done.\n",
      "MoviePy - Writing audio in %s\n"
     ]
    },
    {
     "name": "stderr",
     "output_type": "stream",
     "text": [
      "                                                                                                                       \r"
     ]
    },
    {
     "name": "stdout",
     "output_type": "stream",
     "text": [
      "MoviePy - Done.\n",
      "MoviePy - Writing audio in %s\n"
     ]
    },
    {
     "name": "stderr",
     "output_type": "stream",
     "text": [
      "                                                                                                                       \r"
     ]
    },
    {
     "name": "stdout",
     "output_type": "stream",
     "text": [
      "MoviePy - Done.\n",
      "MoviePy - Writing audio in %s\n"
     ]
    },
    {
     "name": "stderr",
     "output_type": "stream",
     "text": [
      "                                                                                                                       \r"
     ]
    },
    {
     "name": "stdout",
     "output_type": "stream",
     "text": [
      "MoviePy - Done.\n",
      "MoviePy - Writing audio in %s\n"
     ]
    },
    {
     "name": "stderr",
     "output_type": "stream",
     "text": [
      "                                                                                                                       \r"
     ]
    },
    {
     "name": "stdout",
     "output_type": "stream",
     "text": [
      "MoviePy - Done.\n",
      "MoviePy - Writing audio in %s\n"
     ]
    },
    {
     "name": "stderr",
     "output_type": "stream",
     "text": [
      "                                                                                                                       \r"
     ]
    },
    {
     "name": "stdout",
     "output_type": "stream",
     "text": [
      "MoviePy - Done.\n",
      "MoviePy - Writing audio in %s\n"
     ]
    },
    {
     "name": "stderr",
     "output_type": "stream",
     "text": [
      "                                                                                                                       \r"
     ]
    },
    {
     "name": "stdout",
     "output_type": "stream",
     "text": [
      "MoviePy - Done.\n",
      "MoviePy - Writing audio in %s\n"
     ]
    },
    {
     "name": "stderr",
     "output_type": "stream",
     "text": [
      "                                                                                                                       \r"
     ]
    },
    {
     "name": "stdout",
     "output_type": "stream",
     "text": [
      "MoviePy - Done.\n",
      "MoviePy - Writing audio in %s\n"
     ]
    },
    {
     "name": "stderr",
     "output_type": "stream",
     "text": [
      "                                                                                                                       \r"
     ]
    },
    {
     "name": "stdout",
     "output_type": "stream",
     "text": [
      "MoviePy - Done.\n",
      "MoviePy - Writing audio in %s\n"
     ]
    },
    {
     "name": "stderr",
     "output_type": "stream",
     "text": [
      "                                                                                                                       \r"
     ]
    },
    {
     "name": "stdout",
     "output_type": "stream",
     "text": [
      "MoviePy - Done.\n",
      "MoviePy - Writing audio in %s\n"
     ]
    },
    {
     "name": "stderr",
     "output_type": "stream",
     "text": [
      "                                                                                                                       \r"
     ]
    },
    {
     "name": "stdout",
     "output_type": "stream",
     "text": [
      "MoviePy - Done.\n",
      "MoviePy - Writing audio in %s\n"
     ]
    },
    {
     "name": "stderr",
     "output_type": "stream",
     "text": [
      "                                                                                                                       \r"
     ]
    },
    {
     "name": "stdout",
     "output_type": "stream",
     "text": [
      "MoviePy - Done.\n",
      "MoviePy - Writing audio in %s\n"
     ]
    },
    {
     "name": "stderr",
     "output_type": "stream",
     "text": [
      "                                                                                                                       \r"
     ]
    },
    {
     "name": "stdout",
     "output_type": "stream",
     "text": [
      "MoviePy - Done.\n",
      "MoviePy - Writing audio in %s\n"
     ]
    },
    {
     "name": "stderr",
     "output_type": "stream",
     "text": [
      "                                                                                                                       \r"
     ]
    },
    {
     "name": "stdout",
     "output_type": "stream",
     "text": [
      "MoviePy - Done.\n",
      "MoviePy - Writing audio in %s\n"
     ]
    },
    {
     "name": "stderr",
     "output_type": "stream",
     "text": [
      "                                                                                                                       \r"
     ]
    },
    {
     "name": "stdout",
     "output_type": "stream",
     "text": [
      "MoviePy - Done.\n",
      "MoviePy - Writing audio in %s\n"
     ]
    },
    {
     "name": "stderr",
     "output_type": "stream",
     "text": [
      "                                                                                                                       \r"
     ]
    },
    {
     "name": "stdout",
     "output_type": "stream",
     "text": [
      "MoviePy - Done.\n",
      "MoviePy - Writing audio in %s\n"
     ]
    },
    {
     "name": "stderr",
     "output_type": "stream",
     "text": [
      "                                                                                                                       \r"
     ]
    },
    {
     "name": "stdout",
     "output_type": "stream",
     "text": [
      "MoviePy - Done.\n",
      "MoviePy - Writing audio in %s\n"
     ]
    },
    {
     "name": "stderr",
     "output_type": "stream",
     "text": [
      "                                                                                                                       \r"
     ]
    },
    {
     "name": "stdout",
     "output_type": "stream",
     "text": [
      "MoviePy - Done.\n",
      "MoviePy - Writing audio in %s\n"
     ]
    },
    {
     "name": "stderr",
     "output_type": "stream",
     "text": [
      "                                                                                                                       \r"
     ]
    },
    {
     "name": "stdout",
     "output_type": "stream",
     "text": [
      "MoviePy - Done.\n",
      "MoviePy - Writing audio in %s\n"
     ]
    },
    {
     "name": "stderr",
     "output_type": "stream",
     "text": [
      "                                                                                                                       \r"
     ]
    },
    {
     "name": "stdout",
     "output_type": "stream",
     "text": [
      "MoviePy - Done.\n",
      "MoviePy - Writing audio in %s\n"
     ]
    },
    {
     "name": "stderr",
     "output_type": "stream",
     "text": [
      "                                                                                                                       \r"
     ]
    },
    {
     "name": "stdout",
     "output_type": "stream",
     "text": [
      "MoviePy - Done.\n",
      "MoviePy - Writing audio in %s\n"
     ]
    },
    {
     "name": "stderr",
     "output_type": "stream",
     "text": [
      "                                                                                                                       \r"
     ]
    },
    {
     "name": "stdout",
     "output_type": "stream",
     "text": [
      "MoviePy - Done.\n",
      "MoviePy - Writing audio in %s\n"
     ]
    },
    {
     "name": "stderr",
     "output_type": "stream",
     "text": [
      "                                                                                                                       \r"
     ]
    },
    {
     "name": "stdout",
     "output_type": "stream",
     "text": [
      "MoviePy - Done.\n",
      "MoviePy - Writing audio in %s\n"
     ]
    },
    {
     "name": "stderr",
     "output_type": "stream",
     "text": [
      "                                                                                                                       \r"
     ]
    },
    {
     "name": "stdout",
     "output_type": "stream",
     "text": [
      "MoviePy - Done.\n",
      "MoviePy - Writing audio in %s\n"
     ]
    },
    {
     "name": "stderr",
     "output_type": "stream",
     "text": [
      "                                                                                                                       \r"
     ]
    },
    {
     "name": "stdout",
     "output_type": "stream",
     "text": [
      "MoviePy - Done.\n",
      "MoviePy - Writing audio in %s\n"
     ]
    },
    {
     "name": "stderr",
     "output_type": "stream",
     "text": [
      "                                                                                                                       \r"
     ]
    },
    {
     "name": "stdout",
     "output_type": "stream",
     "text": [
      "MoviePy - Done.\n",
      "MoviePy - Writing audio in %s\n"
     ]
    },
    {
     "name": "stderr",
     "output_type": "stream",
     "text": [
      "                                                                                                                       \r"
     ]
    },
    {
     "name": "stdout",
     "output_type": "stream",
     "text": [
      "MoviePy - Done.\n",
      "MoviePy - Writing audio in %s\n"
     ]
    },
    {
     "name": "stderr",
     "output_type": "stream",
     "text": [
      "                                                                                                                       \r"
     ]
    },
    {
     "name": "stdout",
     "output_type": "stream",
     "text": [
      "MoviePy - Done.\n",
      "MoviePy - Writing audio in %s\n"
     ]
    },
    {
     "name": "stderr",
     "output_type": "stream",
     "text": [
      "                                                                                                                       \r"
     ]
    },
    {
     "name": "stdout",
     "output_type": "stream",
     "text": [
      "MoviePy - Done.\n",
      "MoviePy - Writing audio in %s\n"
     ]
    },
    {
     "name": "stderr",
     "output_type": "stream",
     "text": [
      "                                                                                                                       \r"
     ]
    },
    {
     "name": "stdout",
     "output_type": "stream",
     "text": [
      "MoviePy - Done.\n",
      "MoviePy - Writing audio in %s\n"
     ]
    },
    {
     "name": "stderr",
     "output_type": "stream",
     "text": [
      "                                                                                                                       \r"
     ]
    },
    {
     "name": "stdout",
     "output_type": "stream",
     "text": [
      "MoviePy - Done.\n",
      "MoviePy - Writing audio in %s\n"
     ]
    },
    {
     "name": "stderr",
     "output_type": "stream",
     "text": [
      "                                                                                                                       \r"
     ]
    },
    {
     "name": "stdout",
     "output_type": "stream",
     "text": [
      "MoviePy - Done.\n",
      "MoviePy - Writing audio in %s\n"
     ]
    },
    {
     "name": "stderr",
     "output_type": "stream",
     "text": [
      "                                                                                                                       \r"
     ]
    },
    {
     "name": "stdout",
     "output_type": "stream",
     "text": [
      "MoviePy - Done.\n",
      "MoviePy - Writing audio in %s\n"
     ]
    },
    {
     "name": "stderr",
     "output_type": "stream",
     "text": [
      "                                                                                                                       \r"
     ]
    },
    {
     "name": "stdout",
     "output_type": "stream",
     "text": [
      "MoviePy - Done.\n",
      "MoviePy - Writing audio in %s\n"
     ]
    },
    {
     "name": "stderr",
     "output_type": "stream",
     "text": [
      "                                                                                                                       \r"
     ]
    },
    {
     "name": "stdout",
     "output_type": "stream",
     "text": [
      "MoviePy - Done.\n",
      "MoviePy - Writing audio in %s\n"
     ]
    },
    {
     "name": "stderr",
     "output_type": "stream",
     "text": [
      "                                                                                                                       \r"
     ]
    },
    {
     "name": "stdout",
     "output_type": "stream",
     "text": [
      "MoviePy - Done.\n",
      "MoviePy - Writing audio in %s\n"
     ]
    },
    {
     "name": "stderr",
     "output_type": "stream",
     "text": [
      "                                                                                                                       \r"
     ]
    },
    {
     "name": "stdout",
     "output_type": "stream",
     "text": [
      "MoviePy - Done.\n",
      "MoviePy - Writing audio in %s\n"
     ]
    },
    {
     "name": "stderr",
     "output_type": "stream",
     "text": [
      "                                                                                                                       \r"
     ]
    },
    {
     "name": "stdout",
     "output_type": "stream",
     "text": [
      "MoviePy - Done.\n",
      "MoviePy - Writing audio in %s\n"
     ]
    },
    {
     "name": "stderr",
     "output_type": "stream",
     "text": [
      "                                                                                                                       \r"
     ]
    },
    {
     "name": "stdout",
     "output_type": "stream",
     "text": [
      "MoviePy - Done.\n",
      "MoviePy - Writing audio in %s\n"
     ]
    },
    {
     "name": "stderr",
     "output_type": "stream",
     "text": [
      "                                                                                                                       \r"
     ]
    },
    {
     "name": "stdout",
     "output_type": "stream",
     "text": [
      "MoviePy - Done.\n",
      "MoviePy - Writing audio in %s\n"
     ]
    },
    {
     "name": "stderr",
     "output_type": "stream",
     "text": [
      "                                                                                                                       \r"
     ]
    },
    {
     "name": "stdout",
     "output_type": "stream",
     "text": [
      "MoviePy - Done.\n"
     ]
    }
   ],
   "source": [
    "tgt_folder = r'F:\\OneDrive - Curtin University of Technology Australia\\ToMaster\\pymath\\statquest_ml\\Video\\Machine Learning'\n",
    "video2audioSame(tgt_folder)"
   ]
  },
  {
   "cell_type": "markdown",
   "metadata": {},
   "source": [
    "### 2.3 Function from Mp4 to Mp3 <a id='23'></a>\n",
    "[go to top](#top)<br>"
   ]
  },
  {
   "cell_type": "code",
   "execution_count": 18,
   "metadata": {},
   "outputs": [],
   "source": [
    "#from Mp4 to Mp3\n",
    "def video2audioDifference(video_in_folder,audio_out_folder):\n",
    "    import moviepy.editor as mp\n",
    "    import re\n",
    "    import os\n",
    "    tgt_folder = video_in_folder\n",
    "    for file in [n for n in os.listdir(tgt_folder) if re.search('mp4',n)]:\n",
    "        full_path = os.path.join(tgt_folder, file) \n",
    "        output_path = os.path.join(audio_out_folder, os.path.splitext(file)[0] + '.mp3')\n",
    "        clip = mp.AudioFileClip(full_path).subclip(0,) # disable if do not want any clipping\n",
    "        clip.write_audiofile(output_path)"
   ]
  },
  {
   "cell_type": "code",
   "execution_count": 19,
   "metadata": {},
   "outputs": [
    {
     "name": "stdout",
     "output_type": "stream",
     "text": [
      "MoviePy - Writing audio in %s\n"
     ]
    },
    {
     "name": "stderr",
     "output_type": "stream",
     "text": [
      "                                                                                                                       \r"
     ]
    },
    {
     "name": "stdout",
     "output_type": "stream",
     "text": [
      "MoviePy - Done.\n",
      "MoviePy - Writing audio in %s\n"
     ]
    },
    {
     "name": "stderr",
     "output_type": "stream",
     "text": [
      "                                                                                                                       \r"
     ]
    },
    {
     "name": "stdout",
     "output_type": "stream",
     "text": [
      "MoviePy - Done.\n",
      "MoviePy - Writing audio in %s\n"
     ]
    },
    {
     "name": "stderr",
     "output_type": "stream",
     "text": [
      "                                                                                                                       \r"
     ]
    },
    {
     "name": "stdout",
     "output_type": "stream",
     "text": [
      "MoviePy - Done.\n",
      "MoviePy - Writing audio in %s\n"
     ]
    },
    {
     "name": "stderr",
     "output_type": "stream",
     "text": [
      "                                                                                                                       \r"
     ]
    },
    {
     "name": "stdout",
     "output_type": "stream",
     "text": [
      "MoviePy - Done.\n",
      "MoviePy - Writing audio in %s\n"
     ]
    },
    {
     "name": "stderr",
     "output_type": "stream",
     "text": [
      "                                                                                                                       \r"
     ]
    },
    {
     "name": "stdout",
     "output_type": "stream",
     "text": [
      "MoviePy - Done.\n",
      "MoviePy - Writing audio in %s\n"
     ]
    },
    {
     "name": "stderr",
     "output_type": "stream",
     "text": [
      "                                                                                                                       \r"
     ]
    },
    {
     "name": "stdout",
     "output_type": "stream",
     "text": [
      "MoviePy - Done.\n",
      "MoviePy - Writing audio in %s\n"
     ]
    },
    {
     "name": "stderr",
     "output_type": "stream",
     "text": [
      "                                                                                                                       \r"
     ]
    },
    {
     "name": "stdout",
     "output_type": "stream",
     "text": [
      "MoviePy - Done.\n",
      "MoviePy - Writing audio in %s\n"
     ]
    },
    {
     "name": "stderr",
     "output_type": "stream",
     "text": [
      "                                                                                                                       \r"
     ]
    },
    {
     "name": "stdout",
     "output_type": "stream",
     "text": [
      "MoviePy - Done.\n",
      "MoviePy - Writing audio in %s\n"
     ]
    },
    {
     "name": "stderr",
     "output_type": "stream",
     "text": [
      "                                                                                                                       \r"
     ]
    },
    {
     "name": "stdout",
     "output_type": "stream",
     "text": [
      "MoviePy - Done.\n",
      "MoviePy - Writing audio in %s\n"
     ]
    },
    {
     "name": "stderr",
     "output_type": "stream",
     "text": [
      "                                                                                                                       \r"
     ]
    },
    {
     "name": "stdout",
     "output_type": "stream",
     "text": [
      "MoviePy - Done.\n",
      "MoviePy - Writing audio in %s\n"
     ]
    },
    {
     "name": "stderr",
     "output_type": "stream",
     "text": [
      "                                                                                                                       \r"
     ]
    },
    {
     "name": "stdout",
     "output_type": "stream",
     "text": [
      "MoviePy - Done.\n",
      "MoviePy - Writing audio in %s\n"
     ]
    },
    {
     "name": "stderr",
     "output_type": "stream",
     "text": [
      "                                                                                                                       \r"
     ]
    },
    {
     "name": "stdout",
     "output_type": "stream",
     "text": [
      "MoviePy - Done.\n",
      "MoviePy - Writing audio in %s\n"
     ]
    },
    {
     "name": "stderr",
     "output_type": "stream",
     "text": [
      "                                                                                                                       \r"
     ]
    },
    {
     "name": "stdout",
     "output_type": "stream",
     "text": [
      "MoviePy - Done.\n",
      "MoviePy - Writing audio in %s\n"
     ]
    },
    {
     "name": "stderr",
     "output_type": "stream",
     "text": [
      "                                                                                                                       \r"
     ]
    },
    {
     "name": "stdout",
     "output_type": "stream",
     "text": [
      "MoviePy - Done.\n",
      "MoviePy - Writing audio in %s\n"
     ]
    },
    {
     "name": "stderr",
     "output_type": "stream",
     "text": [
      "                                                                                                                       \r"
     ]
    },
    {
     "name": "stdout",
     "output_type": "stream",
     "text": [
      "MoviePy - Done.\n",
      "MoviePy - Writing audio in %s\n"
     ]
    },
    {
     "name": "stderr",
     "output_type": "stream",
     "text": [
      "                                                                                                                       \r"
     ]
    },
    {
     "name": "stdout",
     "output_type": "stream",
     "text": [
      "MoviePy - Done.\n",
      "MoviePy - Writing audio in %s\n"
     ]
    },
    {
     "name": "stderr",
     "output_type": "stream",
     "text": [
      "                                                                                                                       \r"
     ]
    },
    {
     "name": "stdout",
     "output_type": "stream",
     "text": [
      "MoviePy - Done.\n",
      "MoviePy - Writing audio in %s\n"
     ]
    },
    {
     "name": "stderr",
     "output_type": "stream",
     "text": [
      "                                                                                                                       \r"
     ]
    },
    {
     "name": "stdout",
     "output_type": "stream",
     "text": [
      "MoviePy - Done.\n",
      "MoviePy - Writing audio in %s\n"
     ]
    },
    {
     "name": "stderr",
     "output_type": "stream",
     "text": [
      "                                                                                                                       \r"
     ]
    },
    {
     "name": "stdout",
     "output_type": "stream",
     "text": [
      "MoviePy - Done.\n",
      "MoviePy - Writing audio in %s\n"
     ]
    },
    {
     "name": "stderr",
     "output_type": "stream",
     "text": [
      "                                                                                                                       \r"
     ]
    },
    {
     "name": "stdout",
     "output_type": "stream",
     "text": [
      "MoviePy - Done.\n",
      "MoviePy - Writing audio in %s\n"
     ]
    },
    {
     "name": "stderr",
     "output_type": "stream",
     "text": [
      "                                                                                                                       \r"
     ]
    },
    {
     "name": "stdout",
     "output_type": "stream",
     "text": [
      "MoviePy - Done.\n",
      "MoviePy - Writing audio in %s\n"
     ]
    },
    {
     "name": "stderr",
     "output_type": "stream",
     "text": [
      "                                                                                                                       \r"
     ]
    },
    {
     "name": "stdout",
     "output_type": "stream",
     "text": [
      "MoviePy - Done.\n",
      "MoviePy - Writing audio in %s\n"
     ]
    },
    {
     "name": "stderr",
     "output_type": "stream",
     "text": [
      "                                                                                                                       \r"
     ]
    },
    {
     "name": "stdout",
     "output_type": "stream",
     "text": [
      "MoviePy - Done.\n",
      "MoviePy - Writing audio in %s\n"
     ]
    },
    {
     "name": "stderr",
     "output_type": "stream",
     "text": [
      "                                                                                                                       \r"
     ]
    },
    {
     "name": "stdout",
     "output_type": "stream",
     "text": [
      "MoviePy - Done.\n",
      "MoviePy - Writing audio in %s\n"
     ]
    },
    {
     "name": "stderr",
     "output_type": "stream",
     "text": [
      "                                                                                                                       \r"
     ]
    },
    {
     "name": "stdout",
     "output_type": "stream",
     "text": [
      "MoviePy - Done.\n",
      "MoviePy - Writing audio in %s\n"
     ]
    },
    {
     "name": "stderr",
     "output_type": "stream",
     "text": [
      "                                                                                                                       \r"
     ]
    },
    {
     "name": "stdout",
     "output_type": "stream",
     "text": [
      "MoviePy - Done.\n",
      "MoviePy - Writing audio in %s\n"
     ]
    },
    {
     "name": "stderr",
     "output_type": "stream",
     "text": [
      "                                                                                                                       \r"
     ]
    },
    {
     "name": "stdout",
     "output_type": "stream",
     "text": [
      "MoviePy - Done.\n",
      "MoviePy - Writing audio in %s\n"
     ]
    },
    {
     "name": "stderr",
     "output_type": "stream",
     "text": [
      "                                                                                                                       \r"
     ]
    },
    {
     "name": "stdout",
     "output_type": "stream",
     "text": [
      "MoviePy - Done.\n",
      "MoviePy - Writing audio in %s\n"
     ]
    },
    {
     "name": "stderr",
     "output_type": "stream",
     "text": [
      "                                                                                                                       \r"
     ]
    },
    {
     "name": "stdout",
     "output_type": "stream",
     "text": [
      "MoviePy - Done.\n",
      "MoviePy - Writing audio in %s\n"
     ]
    },
    {
     "name": "stderr",
     "output_type": "stream",
     "text": [
      "                                                                                                                       \r"
     ]
    },
    {
     "name": "stdout",
     "output_type": "stream",
     "text": [
      "MoviePy - Done.\n",
      "MoviePy - Writing audio in %s\n"
     ]
    },
    {
     "name": "stderr",
     "output_type": "stream",
     "text": [
      "                                                                                                                       \r"
     ]
    },
    {
     "name": "stdout",
     "output_type": "stream",
     "text": [
      "MoviePy - Done.\n",
      "MoviePy - Writing audio in %s\n"
     ]
    },
    {
     "name": "stderr",
     "output_type": "stream",
     "text": [
      "                                                                                                                       \r"
     ]
    },
    {
     "name": "stdout",
     "output_type": "stream",
     "text": [
      "MoviePy - Done.\n",
      "MoviePy - Writing audio in %s\n"
     ]
    },
    {
     "name": "stderr",
     "output_type": "stream",
     "text": [
      "                                                                                                                       \r"
     ]
    },
    {
     "name": "stdout",
     "output_type": "stream",
     "text": [
      "MoviePy - Done.\n"
     ]
    }
   ],
   "source": [
    "video_in_folder = r'F:\\OneDrive - Curtin University of Technology Australia\\ToMaster\\pymath\\statquest_ml\\Video\\Statistics_Basic_Video'\n",
    "audio_out_folder = r'F:\\OneDrive - Curtin University of Technology Australia\\ToMaster\\pymath\\statquest_ml\\Video\\Statistics_Basic_Audio'\n",
    "video2audioDifference(video_in_folder,audio_out_folder)"
   ]
  },
  {
   "cell_type": "markdown",
   "metadata": {},
   "source": [
    "## 2.4 Function from WMV to Mp3 <a id='24'></a>\n",
    "[go to top](#top)<br>"
   ]
  },
  {
   "cell_type": "code",
   "execution_count": 9,
   "metadata": {},
   "outputs": [],
   "source": [
    "#from WMV to Mp3\n",
    "def video2audioDifference(video_in_folder,audio_out_folder):\n",
    "    import moviepy.editor as mp\n",
    "    import re\n",
    "    import os\n",
    "    tgt_folder = video_in_folder\n",
    "    for file in [n for n in os.listdir(tgt_folder) if re.search('wmv',n)]:\n",
    "        full_path = os.path.join(tgt_folder, file) \n",
    "        output_path = os.path.join(audio_out_folder, os.path.splitext(file)[0] + '.mp3')\n",
    "        clip = mp.AudioFileClip(full_path).subclip(0,) # disable if do not want any clipping\n",
    "        clip.write_audiofile(output_path)"
   ]
  },
  {
   "cell_type": "code",
   "execution_count": null,
   "metadata": {},
   "outputs": [],
   "source": [
    "video_in_folder = r'F:\\OneDrive - Curtin University of Technology Australia\\ToMaster\\James-Hayton-PhD\\TimeManagement'\n",
    "audio_out_folder = r'F:\\OneDrive - Curtin University of Technology Australia\\ToMaster\\James-Hayton-PhD\\TimeManagement\\python audio'\n",
    "video2audioDifference(video_in_folder,audio_out_folder)"
   ]
  },
  {
   "cell_type": "markdown",
   "metadata": {},
   "source": [
    "## 2.5 Toc 25 <a id='25'></a>\n",
    "[go to top](#top)<br>"
   ]
  },
  {
   "cell_type": "markdown",
   "metadata": {},
   "source": [
    "## 2.6 Toc 26 <a id='26'></a>\n",
    "[go to top](#top)<br>"
   ]
  },
  {
   "cell_type": "markdown",
   "metadata": {},
   "source": [
    "## 2.7 Toc 27 <a id='27'></a>\n",
    "[go to top](#top)<br>"
   ]
  },
  {
   "cell_type": "markdown",
   "metadata": {},
   "source": [
    "## 2.8 Toc 28 <a id='28'></a>\n",
    "[go to top](#top)<br>"
   ]
  },
  {
   "cell_type": "markdown",
   "metadata": {},
   "source": [
    "## 2.9 Toc 29 <a id='29'></a>\n",
    "[go to top](#top)<br>"
   ]
  },
  {
   "cell_type": "markdown",
   "metadata": {},
   "source": [
    "# 3. MoviePy - Edit Video using Python - cool <a id='3'></a>\n",
    "[go to top](#top)<br>"
   ]
  },
  {
   "cell_type": "markdown",
   "metadata": {},
   "source": [
    "MoviePy is a Python module for video editing, which can be used for basic operations (like cuts, concatenations, title insertions), video compositing (a.k.a. non-linear editing), video processing, or to create advanced effects. It can read and write the most common video formats, including GIF.\n",
    "https://zulko.github.io/moviepy/index.html"
   ]
  },
  {
   "cell_type": "markdown",
   "metadata": {},
   "source": [
    "# 3.1 Toc 31 <a id='31'></a>\n",
    "[go to top](#top)<br>"
   ]
  },
  {
   "cell_type": "markdown",
   "metadata": {},
   "source": [
    "# 3.2 Toc 32 <a id='32'></a>\n",
    "[go to top](#top)<br>"
   ]
  },
  {
   "cell_type": "markdown",
   "metadata": {},
   "source": [
    "# 3.3 Toc 33 <a id='33'></a>\n",
    "[go to top](#top)<br>"
   ]
  },
  {
   "cell_type": "markdown",
   "metadata": {},
   "source": [
    "# 3.4 Toc 34 <a id='34'></a>\n",
    "[go to top](#top)<br>"
   ]
  },
  {
   "cell_type": "markdown",
   "metadata": {},
   "source": [
    "# 3.5 Toc 35 <a id='35'></a>\n",
    "[go to top](#top)<br>"
   ]
  },
  {
   "cell_type": "markdown",
   "metadata": {},
   "source": [
    "# 4. Using lame and ffmpeg<a id='4'></a>\n",
    "[go to top](#top)<br>"
   ]
  },
  {
   "cell_type": "markdown",
   "metadata": {},
   "source": [
    "I copy this form internet, did not try it, looks a bit complicated."
   ]
  },
  {
   "cell_type": "markdown",
   "metadata": {},
   "source": [
    "Extract MP3 audio from Videos using a Python script\n",
    "Just a handy and pretty simple Python script to extract MP3 audio files from videos.\n",
    "\n",
    "Requirements\n",
    "The script just requires the following two libraries:\n",
    "\n",
    "lame\n",
    "ffmpeg\n",
    "If the libraries are not installed just run the following command in your terminal:\n",
    "– On Mac (OS X): brew install lame ffmpeg\n",
    "– On Linux (Ubuntu): sudo apt-get install lame ffmpeg\n",
    "\n",
    "How to use it\n",
    "Just run the following command within your terminal replacing NAME_OF_THE_VIDEO.mp4 by the name of your video file:\n",
    "python video_to_mp3.py NAME_OF_THE_VIDEO.mp4\n",
    "\n",
    "Note.- The video must be located within the same directory of the python script, otherwise you must provide the full path."
   ]
  },
  {
   "cell_type": "markdown",
   "metadata": {},
   "source": [
    "The Script\n"
   ]
  },
  {
   "cell_type": "code",
   "execution_count": null,
   "metadata": {},
   "outputs": [],
   "source": [
    "\"\"\"\n",
    "video_to_mp3.py\n",
    " \n",
    "Description:\n",
    "Simple script to extract MP3 audio from videos using Python.\n",
    " \n",
    "Requirements:\n",
    " - \"lame\"\n",
    " - \"ffmpeg\"\n",
    " \n",
    "If the libraries are not installed just run the following command in your terminal:\n",
    "- On Mac(OS X): brew install lame ffmpeg\n",
    "- On Linux(Ubuntu): sudo apt-get install lame ffmpeg\n",
    " \n",
    "How to use the script:\n",
    "Just run the following command within your terminal replacing \"NAME_OF_THE_VIDEO.mp4\" by the name of your video file:\n",
    "$ python video_to_mp3.py NAME_OF_THE_VIDEO.mp4\n",
    " \n",
    "Note.- The video must be within the same directory of the python script, otherwise provide the full path.\n",
    "\"\"\"\n",
    "import sys\n",
    "import os\n",
    "import time\n",
    " \n",
    " \n",
    "def video_to_mp3(file_name):\n",
    "    \"\"\" Transforms video file into a MP3 file \"\"\"\n",
    "    try:\n",
    "        file, extension = os.path.splitext(file_name)\n",
    "        # Convert video into .wav file\n",
    "        os.system('ffmpeg -i {file}{ext} {file}.wav'.format(file=file, ext=extension))\n",
    "        # Convert .wav into final .mp3 file\n",
    "        os.system('lame {file}.wav {file}.mp3'.format(file=file))\n",
    "        os.remove('{}.wav'.format(file))  # Deletes the .wav file\n",
    "        print('\"{}\" successfully converted into MP3!'.format(file_name))\n",
    "    except OSError as err:\n",
    "        print(err.reason)\n",
    "        exit(1)\n",
    " \n",
    " \n",
    "def main():\n",
    "    # Confirm the script is called with the required params\n",
    "    if len(sys.argv) != 2:\n",
    "        print('Usage: python video_to_mp3.py FILE_NAME')\n",
    "        exit(1)\n",
    " \n",
    "    file_path = sys.argv[1]\n",
    "    try:\n",
    "        if not os.path.exists(file_path):\n",
    "            print('file \"{}\" not found!'.format(file_path))\n",
    "            exit(1)\n",
    " \n",
    "    except OSError as err:\n",
    "        print(err.reason)\n",
    "        exit(1)\n",
    " \n",
    "    video_to_mp3(file_path)\n",
    "    time.sleep(1)\n",
    " \n",
    " \n",
    "if __name__ == '__main__':\n",
    "    main()"
   ]
  },
  {
   "cell_type": "markdown",
   "metadata": {},
   "source": [
    "# 41. Toc 41<a id='41'></a>\n",
    "[go to top](#top)<br>"
   ]
  },
  {
   "cell_type": "markdown",
   "metadata": {},
   "source": [
    "# 42. Toc 42<a id='42'></a>\n",
    "[go to top](#top)<br>"
   ]
  },
  {
   "cell_type": "markdown",
   "metadata": {},
   "source": [
    "# 43. Toc 43<a id='43'></a>\n",
    "[go to top](#top)<br>"
   ]
  },
  {
   "cell_type": "markdown",
   "metadata": {},
   "source": [
    "# 44. Toc 44<a id='44'></a>\n",
    "[go to top](#top)<br>"
   ]
  },
  {
   "cell_type": "markdown",
   "metadata": {},
   "source": [
    "# 45. Toc 45<a id='45'></a>\n",
    "[go to top](#top)<br>"
   ]
  },
  {
   "cell_type": "markdown",
   "metadata": {},
   "source": [
    "# 46. Toc 46<a id='46'></a>\n",
    "[go to top](#top)<br>"
   ]
  },
  {
   "cell_type": "markdown",
   "metadata": {},
   "source": [
    "# 5. Toc 5 <a id='5'></a>\n",
    "[go to top](#top)<br>"
   ]
  },
  {
   "cell_type": "markdown",
   "metadata": {},
   "source": [
    "# 51. Toc 51 <a id='51'></a>\n",
    "[go to top](#top)<br>"
   ]
  },
  {
   "cell_type": "markdown",
   "metadata": {},
   "source": [
    "# 52. Toc 52 <a id='52'></a>\n",
    "[go to top](#top)<br>"
   ]
  },
  {
   "cell_type": "markdown",
   "metadata": {},
   "source": [
    "# 53. Toc 53 <a id='53'></a>\n",
    "[go to top](#top)<br>"
   ]
  },
  {
   "cell_type": "markdown",
   "metadata": {},
   "source": [
    "# 54. Toc 54 <a id='54'></a>\n",
    "[go to top](#top)<br>"
   ]
  },
  {
   "cell_type": "markdown",
   "metadata": {},
   "source": [
    "# 55. Toc 55 <a id='55'></a>\n",
    "[go to top](#top)<br>"
   ]
  },
  {
   "cell_type": "markdown",
   "metadata": {},
   "source": [
    "# 56. Toc 56 <a id='56'></a>\n",
    "[go to top](#top)<br>"
   ]
  },
  {
   "cell_type": "markdown",
   "metadata": {},
   "source": [
    "# 6. Toc 6<a id='6'></a>\n",
    "[go to top](#top)<br>"
   ]
  },
  {
   "cell_type": "markdown",
   "metadata": {},
   "source": [
    "# 61. Toc 61<a id='61'></a>\n",
    "[go to top](#top)<br>"
   ]
  },
  {
   "cell_type": "markdown",
   "metadata": {},
   "source": [
    "# 62. Toc 62<a id='62'></a>\n",
    "[go to top](#top)<br>"
   ]
  },
  {
   "cell_type": "markdown",
   "metadata": {},
   "source": [
    "# 63. Toc 63<a id='63'></a>\n",
    "[go to top](#top)<br>"
   ]
  },
  {
   "cell_type": "markdown",
   "metadata": {},
   "source": [
    "# 64. Toc 64<a id='64'></a>\n",
    "[go to top](#top)<br>"
   ]
  },
  {
   "cell_type": "markdown",
   "metadata": {},
   "source": [
    "# 65. Toc 65<a id='65'></a>\n",
    "[go to top](#top)<br>"
   ]
  },
  {
   "cell_type": "markdown",
   "metadata": {},
   "source": [
    "# 66. Toc 66<a id='66'></a>\n",
    "[go to top](#top)<br>"
   ]
  },
  {
   "cell_type": "markdown",
   "metadata": {},
   "source": [
    "# 67. Toc 67<a id='67'></a>\n",
    "[go to top](#top)<br>"
   ]
  },
  {
   "cell_type": "markdown",
   "metadata": {},
   "source": [
    "# 7. Toc 7 <a id='7'></a>\n",
    "[go to top](#top)<br>"
   ]
  },
  {
   "cell_type": "markdown",
   "metadata": {},
   "source": [
    "# 71. Toc 71 <a id='71'></a>\n",
    "[go to top](#top)<br>"
   ]
  },
  {
   "cell_type": "markdown",
   "metadata": {},
   "source": [
    "# 72. Toc 72 <a id='72'></a>\n",
    "[go to top](#top)<br>"
   ]
  },
  {
   "cell_type": "markdown",
   "metadata": {},
   "source": [
    "# 73. Toc 73 <a id='73'></a>\n",
    "[go to top](#top)<br>"
   ]
  },
  {
   "cell_type": "markdown",
   "metadata": {},
   "source": [
    "# 74. Toc 74 <a id='74'></a>\n",
    "[go to top](#top)<br>"
   ]
  },
  {
   "cell_type": "markdown",
   "metadata": {},
   "source": [
    "# 75. Toc 75 <a id='75'></a>\n",
    "[go to top](#top)<br>"
   ]
  },
  {
   "cell_type": "markdown",
   "metadata": {},
   "source": [
    "# 8. Toc 8 <a id='8'></a>\n",
    "[go to top](#top)<br>"
   ]
  },
  {
   "cell_type": "markdown",
   "metadata": {},
   "source": [
    "# 81. Toc 81 <a id='81'></a>\n",
    "[go to top](#top)<br>"
   ]
  },
  {
   "cell_type": "markdown",
   "metadata": {},
   "source": [
    "# 82. Toc 82 <a id='82'></a>\n",
    "[go to top](#top)<br>"
   ]
  },
  {
   "cell_type": "markdown",
   "metadata": {},
   "source": [
    "# 83. Toc 83 <a id='83'></a>\n",
    "[go to top](#top)<br>"
   ]
  },
  {
   "cell_type": "markdown",
   "metadata": {},
   "source": [
    "# 84. Toc 84 <a id='84'></a>\n",
    "[go to top](#top)<br>"
   ]
  },
  {
   "cell_type": "markdown",
   "metadata": {},
   "source": [
    "# 85. Toc 85 <a id='85'></a>\n",
    "[go to top](#top)<br>"
   ]
  },
  {
   "cell_type": "markdown",
   "metadata": {},
   "source": [
    "# 9. Toc 9 <a id='9'></a>\n",
    "[go to top](#top)<br>"
   ]
  },
  {
   "cell_type": "markdown",
   "metadata": {},
   "source": [
    "# 91. Toc 91 <a id='91'></a>\n",
    "[go to top](#top)<br>"
   ]
  },
  {
   "cell_type": "markdown",
   "metadata": {},
   "source": [
    "# 92. Toc 92 <a id='92'></a>\n",
    "[go to top](#top)<br>"
   ]
  },
  {
   "cell_type": "markdown",
   "metadata": {},
   "source": [
    "# 93. Toc 93 <a id='93'></a>\n",
    "[go to top](#top)<br>"
   ]
  },
  {
   "cell_type": "markdown",
   "metadata": {},
   "source": [
    "# 94. Toc 94 <a id='94'></a>\n",
    "[go to top](#top)<br>"
   ]
  },
  {
   "cell_type": "markdown",
   "metadata": {},
   "source": [
    "# 95. Toc 95 <a id='95'></a>\n",
    "[go to top](#top)<br>"
   ]
  },
  {
   "cell_type": "markdown",
   "metadata": {},
   "source": [
    "# 10. Toc 10 <a id='10'></a>\n",
    "[go to top](#top)<br>"
   ]
  },
  {
   "cell_type": "markdown",
   "metadata": {},
   "source": [
    "# 101. Toc 101 <a id='101'></a>\n",
    "[go to top](#top)<br>"
   ]
  },
  {
   "cell_type": "markdown",
   "metadata": {},
   "source": [
    "# 102. Toc 102 <a id='102'></a>\n",
    "[go to top](#top)<br>"
   ]
  },
  {
   "cell_type": "markdown",
   "metadata": {},
   "source": [
    "# 103. Toc 103 <a id='103'></a>\n",
    "[go to top](#top)<br>"
   ]
  },
  {
   "cell_type": "markdown",
   "metadata": {},
   "source": [
    "# 104. Toc 104 <a id='104'></a>\n",
    "[go to top](#top)<br>"
   ]
  },
  {
   "cell_type": "markdown",
   "metadata": {},
   "source": [
    "# 105. Toc 105 <a id='105'></a>\n",
    "[go to top](#top)<br>"
   ]
  },
  {
   "cell_type": "markdown",
   "metadata": {},
   "source": [
    "# 106. Toc 106 <a id='106'></a>\n",
    "[go to top](#top)<br>"
   ]
  },
  {
   "cell_type": "markdown",
   "metadata": {},
   "source": [
    "# 107. Toc 107 <a id='107'></a>\n",
    "[go to top](#top)<br>"
   ]
  },
  {
   "cell_type": "markdown",
   "metadata": {},
   "source": [
    "# 11. Toc 11 <a id='11'></a>\n",
    "[go to top](#top)<br>"
   ]
  },
  {
   "cell_type": "markdown",
   "metadata": {},
   "source": [
    "# 11.1 Toc 111 <a id='111'></a>\n",
    "[go to top](#top)<br>"
   ]
  },
  {
   "cell_type": "markdown",
   "metadata": {},
   "source": [
    "# 11.2 Toc 112 <a id='112'></a>\n",
    "[go to top](#top)<br>"
   ]
  },
  {
   "cell_type": "markdown",
   "metadata": {},
   "source": [
    "# 11.3 Toc 113 <a id='113'></a>\n",
    "[go to top](#top)<br>"
   ]
  },
  {
   "cell_type": "markdown",
   "metadata": {},
   "source": [
    "# 11.4 Toc 114 <a id='114'></a>\n",
    "[go to top](#top)<br>"
   ]
  },
  {
   "cell_type": "markdown",
   "metadata": {},
   "source": []
  },
  {
   "cell_type": "markdown",
   "metadata": {
    "collapsed": true
   },
   "source": [
    "<a id='bottom'></a>\n",
    "[go to top](#top)<br>"
   ]
  },
  {
   "cell_type": "markdown",
   "metadata": {
    "collapsed": true
   },
   "source": [
    "**Step to prepare a table of content for a new notebook**\n",
    "* Make a copy of this note book and rename to new notebook\n",
    "* change the table of content to fit with your table of content of the new notebook\n",
    "* copy **take home note* and  * ``- and change to scipts folder and run script in each session of your new notebook."
   ]
  },
  {
   "cell_type": "code",
   "execution_count": null,
   "metadata": {
    "collapsed": true
   },
   "outputs": [],
   "source": []
  },
  {
   "cell_type": "code",
   "execution_count": null,
   "metadata": {
    "collapsed": true
   },
   "outputs": [],
   "source": []
  }
 ],
 "metadata": {
  "kernelspec": {
   "display_name": "Python 3",
   "language": "python",
   "name": "python3"
  },
  "language_info": {
   "codemirror_mode": {
    "name": "ipython",
    "version": 3
   },
   "file_extension": ".py",
   "mimetype": "text/x-python",
   "name": "python",
   "nbconvert_exporter": "python",
   "pygments_lexer": "ipython3",
   "version": "3.7.4"
  }
 },
 "nbformat": 4,
 "nbformat_minor": 2
}
